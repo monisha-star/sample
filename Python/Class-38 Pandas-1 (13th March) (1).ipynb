{
 "cells": [
  {
   "cell_type": "markdown",
   "id": "8a0e4728",
   "metadata": {},
   "source": [
    "### Pandas \n",
    "\n",
    "- Pandas is a Python library, that is used to manipulate the data as we do in MS-Excel\n",
    "- It stands for Panel data "
   ]
  },
  {
   "cell_type": "markdown",
   "id": "66845792",
   "metadata": {},
   "source": [
    "### How to import Pandas?"
   ]
  },
  {
   "cell_type": "code",
   "execution_count": 1,
   "id": "e686ff11",
   "metadata": {},
   "outputs": [],
   "source": [
    "import pandas as pd"
   ]
  },
  {
   "cell_type": "markdown",
   "id": "c3e50d1c",
   "metadata": {},
   "source": [
    "### Version"
   ]
  },
  {
   "cell_type": "code",
   "execution_count": 2,
   "id": "66ebeb07",
   "metadata": {},
   "outputs": [
    {
     "data": {
      "text/plain": [
       "'2.0.3'"
      ]
     },
     "execution_count": 2,
     "metadata": {},
     "output_type": "execute_result"
    }
   ],
   "source": [
    "pd.__version__"
   ]
  },
  {
   "cell_type": "markdown",
   "id": "1e1fc0b4",
   "metadata": {},
   "source": [
    "### In pandas, we will work upon two objects \n",
    "\n",
    "- 1. Series\n",
    "- 2. DataFrame"
   ]
  },
  {
   "cell_type": "markdown",
   "id": "819cdb5d",
   "metadata": {},
   "source": [
    "### How to a Create a Series \n",
    "\n",
    "Syntax:\n",
    "        \n",
    "        pd.Series()"
   ]
  },
  {
   "cell_type": "markdown",
   "id": "4a9427ca",
   "metadata": {},
   "source": [
    "#### Creating a series using a list or a tuple "
   ]
  },
  {
   "cell_type": "code",
   "execution_count": 3,
   "id": "411945a3",
   "metadata": {},
   "outputs": [
    {
     "data": {
      "text/plain": [
       "[1, 2, 3, 4, 5, 6, 7, 8, 9, 10]"
      ]
     },
     "execution_count": 3,
     "metadata": {},
     "output_type": "execute_result"
    }
   ],
   "source": [
    "lst = [i for i in range(1,11)]\n",
    "lst"
   ]
  },
  {
   "cell_type": "code",
   "execution_count": 4,
   "id": "7f00cf15",
   "metadata": {},
   "outputs": [
    {
     "data": {
      "text/plain": [
       "0     1\n",
       "1     2\n",
       "2     3\n",
       "3     4\n",
       "4     5\n",
       "5     6\n",
       "6     7\n",
       "7     8\n",
       "8     9\n",
       "9    10\n",
       "dtype: int64"
      ]
     },
     "execution_count": 4,
     "metadata": {},
     "output_type": "execute_result"
    }
   ],
   "source": [
    "s = pd.Series(lst)\n",
    "s"
   ]
  },
  {
   "cell_type": "code",
   "execution_count": 5,
   "id": "ea5be48e",
   "metadata": {},
   "outputs": [
    {
     "name": "stdout",
     "output_type": "stream",
     "text": [
      "<class 'pandas.core.series.Series'>\n"
     ]
    }
   ],
   "source": [
    "print(type(s))"
   ]
  },
  {
   "cell_type": "code",
   "execution_count": 6,
   "id": "e2a6448e",
   "metadata": {},
   "outputs": [
    {
     "data": {
      "text/plain": [
       "(10,)"
      ]
     },
     "execution_count": 6,
     "metadata": {},
     "output_type": "execute_result"
    }
   ],
   "source": [
    "s.shape"
   ]
  },
  {
   "cell_type": "markdown",
   "id": "686312a5",
   "metadata": {},
   "source": [
    "#### A series contains two object \n",
    "\n",
    "- The first object is the index object\n",
    "- The second object is the values associated at that particular index"
   ]
  },
  {
   "cell_type": "code",
   "execution_count": 7,
   "id": "78af437d",
   "metadata": {},
   "outputs": [
    {
     "data": {
      "text/plain": [
       "0     1\n",
       "1     2\n",
       "2     3\n",
       "3     4\n",
       "4     5\n",
       "5     6\n",
       "6     7\n",
       "7     8\n",
       "8     9\n",
       "9    10\n",
       "dtype: int64"
      ]
     },
     "execution_count": 7,
     "metadata": {},
     "output_type": "execute_result"
    }
   ],
   "source": [
    "s"
   ]
  },
  {
   "cell_type": "code",
   "execution_count": 10,
   "id": "aa896415",
   "metadata": {},
   "outputs": [
    {
     "data": {
      "text/plain": [
       "0     Mayank\n",
       "1    Geetika\n",
       "2    Rishabh\n",
       "3     Deepak\n",
       "4      Krati\n",
       "5      Sumit\n",
       "dtype: object"
      ]
     },
     "execution_count": 10,
     "metadata": {},
     "output_type": "execute_result"
    }
   ],
   "source": [
    "name = ['Mayank', 'Geetika', 'Rishabh', 'Deepak', 'Krati', 'Sumit']\n",
    "emp = pd.Series(name)\n",
    "emp"
   ]
  },
  {
   "cell_type": "code",
   "execution_count": 11,
   "id": "ab3980f0",
   "metadata": {},
   "outputs": [
    {
     "data": {
      "text/plain": [
       "0     Mayank\n",
       "1    Geetika\n",
       "2    Rishabh\n",
       "3     Deepak\n",
       "4      Krati\n",
       "5      Sumit\n",
       "dtype: object"
      ]
     },
     "execution_count": 11,
     "metadata": {},
     "output_type": "execute_result"
    }
   ],
   "source": [
    "name = ('Mayank', 'Geetika', 'Rishabh', 'Deepak', 'Krati', 'Sumit')\n",
    "emp = pd.Series(name)\n",
    "emp"
   ]
  },
  {
   "cell_type": "markdown",
   "id": "cabd578a",
   "metadata": {},
   "source": [
    "### Attributes on a Series \n"
   ]
  },
  {
   "cell_type": "markdown",
   "id": "e731fd5f",
   "metadata": {},
   "source": [
    "#### size \n",
    "\n",
    "- It returns the number of the element inside the series "
   ]
  },
  {
   "cell_type": "code",
   "execution_count": 12,
   "id": "c066c052",
   "metadata": {},
   "outputs": [
    {
     "data": {
      "text/plain": [
       "0     Mayank\n",
       "1    Geetika\n",
       "2    Rishabh\n",
       "3     Deepak\n",
       "4      Krati\n",
       "5      Sumit\n",
       "dtype: object"
      ]
     },
     "execution_count": 12,
     "metadata": {},
     "output_type": "execute_result"
    }
   ],
   "source": [
    "emp"
   ]
  },
  {
   "cell_type": "code",
   "execution_count": 13,
   "id": "2f598ec9",
   "metadata": {},
   "outputs": [
    {
     "data": {
      "text/plain": [
       "6"
      ]
     },
     "execution_count": 13,
     "metadata": {},
     "output_type": "execute_result"
    }
   ],
   "source": [
    "emp.size"
   ]
  },
  {
   "cell_type": "code",
   "execution_count": 14,
   "id": "c0db01a7",
   "metadata": {},
   "outputs": [
    {
     "data": {
      "text/plain": [
       "0     1\n",
       "1     2\n",
       "2     3\n",
       "3     4\n",
       "4     5\n",
       "5     6\n",
       "6     7\n",
       "7     8\n",
       "8     9\n",
       "9    10\n",
       "dtype: int64"
      ]
     },
     "execution_count": 14,
     "metadata": {},
     "output_type": "execute_result"
    }
   ],
   "source": [
    "s"
   ]
  },
  {
   "cell_type": "code",
   "execution_count": 15,
   "id": "fe520309",
   "metadata": {},
   "outputs": [
    {
     "data": {
      "text/plain": [
       "10"
      ]
     },
     "execution_count": 15,
     "metadata": {},
     "output_type": "execute_result"
    }
   ],
   "source": [
    "s.size"
   ]
  },
  {
   "cell_type": "markdown",
   "id": "98869a08",
   "metadata": {},
   "source": [
    "#### dtype\n",
    "\n",
    "- It returns a datatype of the values that the series contain"
   ]
  },
  {
   "cell_type": "code",
   "execution_count": 16,
   "id": "d4a7bba1",
   "metadata": {},
   "outputs": [
    {
     "data": {
      "text/plain": [
       "0     1\n",
       "1     2\n",
       "2     3\n",
       "3     4\n",
       "4     5\n",
       "5     6\n",
       "6     7\n",
       "7     8\n",
       "8     9\n",
       "9    10\n",
       "dtype: int64"
      ]
     },
     "execution_count": 16,
     "metadata": {},
     "output_type": "execute_result"
    }
   ],
   "source": [
    "s"
   ]
  },
  {
   "cell_type": "code",
   "execution_count": 17,
   "id": "3dba54a9",
   "metadata": {},
   "outputs": [
    {
     "data": {
      "text/plain": [
       "dtype('int64')"
      ]
     },
     "execution_count": 17,
     "metadata": {},
     "output_type": "execute_result"
    }
   ],
   "source": [
    "s.dtype"
   ]
  },
  {
   "cell_type": "code",
   "execution_count": 18,
   "id": "f41c5dd4",
   "metadata": {},
   "outputs": [
    {
     "data": {
      "text/plain": [
       "0     Mayank\n",
       "1    Geetika\n",
       "2    Rishabh\n",
       "3     Deepak\n",
       "4      Krati\n",
       "5      Sumit\n",
       "dtype: object"
      ]
     },
     "execution_count": 18,
     "metadata": {},
     "output_type": "execute_result"
    }
   ],
   "source": [
    "emp"
   ]
  },
  {
   "cell_type": "code",
   "execution_count": 19,
   "id": "29cd195a",
   "metadata": {},
   "outputs": [
    {
     "data": {
      "text/plain": [
       "dtype('O')"
      ]
     },
     "execution_count": 19,
     "metadata": {},
     "output_type": "execute_result"
    }
   ],
   "source": [
    "emp.dtype"
   ]
  },
  {
   "cell_type": "markdown",
   "id": "607ecc51",
   "metadata": {},
   "source": [
    "#### ndim\n",
    "\n",
    "- It returns the dimension of the series "
   ]
  },
  {
   "cell_type": "code",
   "execution_count": 20,
   "id": "fa5ce291",
   "metadata": {},
   "outputs": [
    {
     "data": {
      "text/plain": [
       "0     1\n",
       "1     2\n",
       "2     3\n",
       "3     4\n",
       "4     5\n",
       "5     6\n",
       "6     7\n",
       "7     8\n",
       "8     9\n",
       "9    10\n",
       "dtype: int64"
      ]
     },
     "execution_count": 20,
     "metadata": {},
     "output_type": "execute_result"
    }
   ],
   "source": [
    "s"
   ]
  },
  {
   "cell_type": "code",
   "execution_count": 21,
   "id": "c7bd9d42",
   "metadata": {},
   "outputs": [
    {
     "data": {
      "text/plain": [
       "1"
      ]
     },
     "execution_count": 21,
     "metadata": {},
     "output_type": "execute_result"
    }
   ],
   "source": [
    "s.ndim"
   ]
  },
  {
   "cell_type": "code",
   "execution_count": 22,
   "id": "68c193dc",
   "metadata": {},
   "outputs": [
    {
     "data": {
      "text/plain": [
       "0     Mayank\n",
       "1    Geetika\n",
       "2    Rishabh\n",
       "3     Deepak\n",
       "4      Krati\n",
       "5      Sumit\n",
       "dtype: object"
      ]
     },
     "execution_count": 22,
     "metadata": {},
     "output_type": "execute_result"
    }
   ],
   "source": [
    "emp"
   ]
  },
  {
   "cell_type": "code",
   "execution_count": 24,
   "id": "a4f1ae1a",
   "metadata": {},
   "outputs": [
    {
     "data": {
      "text/plain": [
       "1"
      ]
     },
     "execution_count": 24,
     "metadata": {},
     "output_type": "execute_result"
    }
   ],
   "source": [
    "emp.ndim"
   ]
  },
  {
   "cell_type": "markdown",
   "id": "91c7c221",
   "metadata": {},
   "source": [
    "#### shape\n",
    "\n",
    "- It returns the shape of the series "
   ]
  },
  {
   "cell_type": "code",
   "execution_count": 25,
   "id": "abfdcb07",
   "metadata": {},
   "outputs": [
    {
     "data": {
      "text/plain": [
       "(6,)"
      ]
     },
     "execution_count": 25,
     "metadata": {},
     "output_type": "execute_result"
    }
   ],
   "source": [
    "emp.shape"
   ]
  },
  {
   "cell_type": "markdown",
   "id": "ab408e2c",
   "metadata": {},
   "source": [
    "#### index \n",
    "\n",
    "- It returns the rangeindex of the object that contains the indices of the obejct "
   ]
  },
  {
   "cell_type": "code",
   "execution_count": 26,
   "id": "d2a1d368",
   "metadata": {},
   "outputs": [
    {
     "data": {
      "text/plain": [
       "0     1\n",
       "1     2\n",
       "2     3\n",
       "3     4\n",
       "4     5\n",
       "5     6\n",
       "6     7\n",
       "7     8\n",
       "8     9\n",
       "9    10\n",
       "dtype: int64"
      ]
     },
     "execution_count": 26,
     "metadata": {},
     "output_type": "execute_result"
    }
   ],
   "source": [
    "s"
   ]
  },
  {
   "cell_type": "code",
   "execution_count": 27,
   "id": "c8c7da6f",
   "metadata": {},
   "outputs": [
    {
     "data": {
      "text/plain": [
       "RangeIndex(start=0, stop=10, step=1)"
      ]
     },
     "execution_count": 27,
     "metadata": {},
     "output_type": "execute_result"
    }
   ],
   "source": [
    "s.index"
   ]
  },
  {
   "cell_type": "code",
   "execution_count": 28,
   "id": "d3d5fdf6",
   "metadata": {},
   "outputs": [
    {
     "data": {
      "text/plain": [
       "0     Mayank\n",
       "1    Geetika\n",
       "2    Rishabh\n",
       "3     Deepak\n",
       "4      Krati\n",
       "5      Sumit\n",
       "dtype: object"
      ]
     },
     "execution_count": 28,
     "metadata": {},
     "output_type": "execute_result"
    }
   ],
   "source": [
    "emp"
   ]
  },
  {
   "cell_type": "code",
   "execution_count": 29,
   "id": "5b5a9d53",
   "metadata": {},
   "outputs": [
    {
     "data": {
      "text/plain": [
       "RangeIndex(start=0, stop=6, step=1)"
      ]
     },
     "execution_count": 29,
     "metadata": {},
     "output_type": "execute_result"
    }
   ],
   "source": [
    "emp.index"
   ]
  },
  {
   "cell_type": "markdown",
   "id": "f946a647",
   "metadata": {},
   "source": [
    "### values \n",
    "\n",
    "- It returns an array that contains values from the series "
   ]
  },
  {
   "cell_type": "code",
   "execution_count": 30,
   "id": "41c5964c",
   "metadata": {},
   "outputs": [
    {
     "data": {
      "text/plain": [
       "array([ 1,  2,  3,  4,  5,  6,  7,  8,  9, 10], dtype=int64)"
      ]
     },
     "execution_count": 30,
     "metadata": {},
     "output_type": "execute_result"
    }
   ],
   "source": [
    "s.values"
   ]
  },
  {
   "cell_type": "code",
   "execution_count": 31,
   "id": "5610b67d",
   "metadata": {},
   "outputs": [
    {
     "data": {
      "text/plain": [
       "array(['Mayank', 'Geetika', 'Rishabh', 'Deepak', 'Krati', 'Sumit'],\n",
       "      dtype=object)"
      ]
     },
     "execution_count": 31,
     "metadata": {},
     "output_type": "execute_result"
    }
   ],
   "source": [
    "emp.values "
   ]
  },
  {
   "cell_type": "markdown",
   "id": "3edf6d50",
   "metadata": {},
   "source": [
    "#### name\n",
    "\n",
    "- It is used to name the series"
   ]
  },
  {
   "cell_type": "code",
   "execution_count": 32,
   "id": "f9359417",
   "metadata": {},
   "outputs": [
    {
     "data": {
      "text/plain": [
       "0     Mayank\n",
       "1    Geetika\n",
       "2    Rishabh\n",
       "3     Deepak\n",
       "4      Krati\n",
       "5      Sumit\n",
       "dtype: object"
      ]
     },
     "execution_count": 32,
     "metadata": {},
     "output_type": "execute_result"
    }
   ],
   "source": [
    "emp"
   ]
  },
  {
   "cell_type": "code",
   "execution_count": 33,
   "id": "1ba3979b",
   "metadata": {},
   "outputs": [],
   "source": [
    "emp.name = 'Employee_names'"
   ]
  },
  {
   "cell_type": "code",
   "execution_count": 34,
   "id": "91af4151",
   "metadata": {},
   "outputs": [
    {
     "data": {
      "text/plain": [
       "0     Mayank\n",
       "1    Geetika\n",
       "2    Rishabh\n",
       "3     Deepak\n",
       "4      Krati\n",
       "5      Sumit\n",
       "Name: Employee_names, dtype: object"
      ]
     },
     "execution_count": 34,
     "metadata": {},
     "output_type": "execute_result"
    }
   ],
   "source": [
    "emp"
   ]
  },
  {
   "cell_type": "markdown",
   "id": "b6546b3f",
   "metadata": {},
   "source": [
    "### Case-2 \n",
    "\n",
    "##### Create a Series using a dictionary \n",
    "\n",
    "- When we create a series using a dictionary, then the keys from the dictionary becomes the index and the values from the dictionary will become the values in the series "
   ]
  },
  {
   "cell_type": "code",
   "execution_count": 35,
   "id": "4eddb44a",
   "metadata": {},
   "outputs": [
    {
     "data": {
      "text/plain": [
       "{'ID': 101,\n",
       " 'Name': 'Mayank',\n",
       " 'Age': 29,\n",
       " 'City': 'Bengaluru',\n",
       " 'Company': 'Learnbay'}"
      ]
     },
     "execution_count": 35,
     "metadata": {},
     "output_type": "execute_result"
    }
   ],
   "source": [
    "info = {'ID':101, 'Name':'Mayank', 'Age':29, 'City':'Bengaluru', 'Company':'Learnbay'}\n",
    "info"
   ]
  },
  {
   "cell_type": "code",
   "execution_count": 36,
   "id": "4dc02fb2",
   "metadata": {},
   "outputs": [
    {
     "data": {
      "text/plain": [
       "dict"
      ]
     },
     "execution_count": 36,
     "metadata": {},
     "output_type": "execute_result"
    }
   ],
   "source": [
    "type(info)"
   ]
  },
  {
   "cell_type": "code",
   "execution_count": 37,
   "id": "71be003c",
   "metadata": {},
   "outputs": [
    {
     "data": {
      "text/plain": [
       "ID               101\n",
       "Name          Mayank\n",
       "Age               29\n",
       "City       Bengaluru\n",
       "Company     Learnbay\n",
       "dtype: object"
      ]
     },
     "execution_count": 37,
     "metadata": {},
     "output_type": "execute_result"
    }
   ],
   "source": [
    "info_ser = pd.Series(info)\n",
    "info_ser"
   ]
  },
  {
   "cell_type": "code",
   "execution_count": 38,
   "id": "1c2e6194",
   "metadata": {},
   "outputs": [
    {
     "data": {
      "text/plain": [
       "pandas.core.series.Series"
      ]
     },
     "execution_count": 38,
     "metadata": {},
     "output_type": "execute_result"
    }
   ],
   "source": [
    "type(info_ser)"
   ]
  },
  {
   "cell_type": "markdown",
   "id": "c1298242",
   "metadata": {},
   "source": [
    "### Index of a series \n",
    "\n",
    "- Implicit Indexing (pandas defined ) 0 to len(ser)-1\n",
    "- Explicit Indexing (user defined ) are sometimes called as labels"
   ]
  },
  {
   "cell_type": "code",
   "execution_count": 39,
   "id": "47733d22",
   "metadata": {},
   "outputs": [
    {
     "data": {
      "text/plain": [
       "('Mayank', 'Geetika', 'Rishabh', 'Deepak', 'Krati', 'Sumit')"
      ]
     },
     "execution_count": 39,
     "metadata": {},
     "output_type": "execute_result"
    }
   ],
   "source": [
    "name"
   ]
  },
  {
   "cell_type": "code",
   "execution_count": 40,
   "id": "b563501e",
   "metadata": {},
   "outputs": [
    {
     "data": {
      "text/plain": [
       "0     Mayank\n",
       "1    Geetika\n",
       "2    Rishabh\n",
       "3     Deepak\n",
       "4      Krati\n",
       "5      Sumit\n",
       "dtype: object"
      ]
     },
     "execution_count": 40,
     "metadata": {},
     "output_type": "execute_result"
    }
   ],
   "source": [
    "s = pd.Series(name)\n",
    "s"
   ]
  },
  {
   "cell_type": "code",
   "execution_count": 41,
   "id": "f3711836",
   "metadata": {},
   "outputs": [
    {
     "data": {
      "text/plain": [
       "RangeIndex(start=0, stop=6, step=1)"
      ]
     },
     "execution_count": 41,
     "metadata": {},
     "output_type": "execute_result"
    }
   ],
   "source": [
    "s.index\n"
   ]
  },
  {
   "cell_type": "markdown",
   "id": "ccd9c3be",
   "metadata": {},
   "source": [
    "#### How to pass user defined indexes (labels)"
   ]
  },
  {
   "cell_type": "code",
   "execution_count": 42,
   "id": "eaee0ba4",
   "metadata": {},
   "outputs": [
    {
     "data": {
      "text/plain": [
       "('Mayank', 'Geetika', 'Rishabh', 'Deepak', 'Krati', 'Sumit')"
      ]
     },
     "execution_count": 42,
     "metadata": {},
     "output_type": "execute_result"
    }
   ],
   "source": [
    "name"
   ]
  },
  {
   "cell_type": "code",
   "execution_count": 43,
   "id": "91fc3163",
   "metadata": {},
   "outputs": [
    {
     "data": {
      "text/plain": [
       "a     Mayank\n",
       "b    Geetika\n",
       "c    Rishabh\n",
       "d     Deepak\n",
       "e      Krati\n",
       "f      Sumit\n",
       "dtype: object"
      ]
     },
     "execution_count": 43,
     "metadata": {},
     "output_type": "execute_result"
    }
   ],
   "source": [
    "s = pd.Series(name, index = list('abcdef'))\n",
    "s"
   ]
  },
  {
   "cell_type": "code",
   "execution_count": 44,
   "id": "a4d9ceeb",
   "metadata": {},
   "outputs": [
    {
     "data": {
      "text/plain": [
       "Index(['a', 'b', 'c', 'd', 'e', 'f'], dtype='object')"
      ]
     },
     "execution_count": 44,
     "metadata": {},
     "output_type": "execute_result"
    }
   ],
   "source": [
    "s.index"
   ]
  },
  {
   "cell_type": "code",
   "execution_count": 45,
   "id": "d1d34493",
   "metadata": {},
   "outputs": [],
   "source": [
    "import numpy as np"
   ]
  },
  {
   "cell_type": "code",
   "execution_count": 49,
   "id": "da0baabe",
   "metadata": {},
   "outputs": [
    {
     "data": {
      "text/plain": [
       "0    1000\n",
       "1    2000\n",
       "2    3000\n",
       "3    4000\n",
       "4    5000\n",
       "dtype: int32"
      ]
     },
     "execution_count": 49,
     "metadata": {},
     "output_type": "execute_result"
    }
   ],
   "source": [
    "ser = pd.Series(np.array([1000,2000,3000,4000,5000]))\n",
    "ser"
   ]
  },
  {
   "cell_type": "code",
   "execution_count": 50,
   "id": "2e5c1cb2",
   "metadata": {},
   "outputs": [],
   "source": [
    "ser.index = ['num_1', 'num_2', 'num_3', 'num_4', 'num_5']"
   ]
  },
  {
   "cell_type": "code",
   "execution_count": 51,
   "id": "c81d8f67",
   "metadata": {},
   "outputs": [
    {
     "data": {
      "text/plain": [
       "num_1    1000\n",
       "num_2    2000\n",
       "num_3    3000\n",
       "num_4    4000\n",
       "num_5    5000\n",
       "dtype: int32"
      ]
     },
     "execution_count": 51,
     "metadata": {},
     "output_type": "execute_result"
    }
   ],
   "source": [
    "ser"
   ]
  },
  {
   "cell_type": "code",
   "execution_count": 53,
   "id": "c3222222",
   "metadata": {},
   "outputs": [
    {
     "data": {
      "text/plain": [
       "Index(['num_1', 'num_2', 'num_3', 'num_4', 'num_5'], dtype='object')"
      ]
     },
     "execution_count": 53,
     "metadata": {},
     "output_type": "execute_result"
    }
   ],
   "source": [
    "ser.index"
   ]
  },
  {
   "cell_type": "code",
   "execution_count": 62,
   "id": "b8969350",
   "metadata": {},
   "outputs": [],
   "source": [
    "country = ['India', 'Russia', 'Vietnam', 'China', 'U.K.', 'Japan']\n",
    "capitals = ['New_Delhi', 'Moscow', 'Hanoi', 'Beijing', 'London', 'Tokyo']"
   ]
  },
  {
   "cell_type": "code",
   "execution_count": 63,
   "id": "68f99f87",
   "metadata": {},
   "outputs": [
    {
     "data": {
      "text/plain": [
       "India      New_Delhi\n",
       "Russia        Moscow\n",
       "Vietnam        Hanoi\n",
       "China        Beijing\n",
       "U.K.          London\n",
       "Japan          Tokyo\n",
       "dtype: object"
      ]
     },
     "execution_count": 63,
     "metadata": {},
     "output_type": "execute_result"
    }
   ],
   "source": [
    "cc = pd.Series(capitals, index = country)\n",
    "cc"
   ]
  },
  {
   "cell_type": "markdown",
   "id": "d147aa5a",
   "metadata": {},
   "source": [
    "### How to access an element from a series "
   ]
  },
  {
   "cell_type": "code",
   "execution_count": 64,
   "id": "be5adf71",
   "metadata": {},
   "outputs": [
    {
     "data": {
      "text/plain": [
       "a     Mayank\n",
       "b    Geetika\n",
       "c    Rishabh\n",
       "d     Deepak\n",
       "e      Krati\n",
       "f      Sumit\n",
       "dtype: object"
      ]
     },
     "execution_count": 64,
     "metadata": {},
     "output_type": "execute_result"
    }
   ],
   "source": [
    "s"
   ]
  },
  {
   "cell_type": "code",
   "execution_count": 65,
   "id": "32824e59",
   "metadata": {},
   "outputs": [
    {
     "data": {
      "text/plain": [
       "'Geetika'"
      ]
     },
     "execution_count": 65,
     "metadata": {},
     "output_type": "execute_result"
    }
   ],
   "source": [
    "s[1]"
   ]
  },
  {
   "cell_type": "code",
   "execution_count": 66,
   "id": "5b3fefcf",
   "metadata": {},
   "outputs": [
    {
     "data": {
      "text/plain": [
       "'Moscow'"
      ]
     },
     "execution_count": 66,
     "metadata": {},
     "output_type": "execute_result"
    }
   ],
   "source": [
    "cc[1]"
   ]
  },
  {
   "cell_type": "markdown",
   "id": "d9e4ff72",
   "metadata": {},
   "source": [
    "#### iloc and loc\n",
    "\n",
    "##### iloc\n",
    "    \n",
    "   - It stands for index location \n",
    "   - iloc is used to fetch out the values on the bases of implicit indexing\n",
    "   \n",
    "##### loc\n",
    "    \n",
    "   - It stands for location\n",
    "   - loc is used to fetch out the values in the bases of explicit indexing"
   ]
  },
  {
   "cell_type": "code",
   "execution_count": 67,
   "id": "ab64d79f",
   "metadata": {},
   "outputs": [
    {
     "data": {
      "text/plain": [
       "a     Mayank\n",
       "b    Geetika\n",
       "c    Rishabh\n",
       "d     Deepak\n",
       "e      Krati\n",
       "f      Sumit\n",
       "dtype: object"
      ]
     },
     "execution_count": 67,
     "metadata": {},
     "output_type": "execute_result"
    }
   ],
   "source": [
    "s"
   ]
  },
  {
   "cell_type": "code",
   "execution_count": 68,
   "id": "764ce1aa",
   "metadata": {},
   "outputs": [
    {
     "data": {
      "text/plain": [
       "0     Mayank\n",
       "1    Geetika\n",
       "2    Rishabh\n",
       "3     Deepak\n",
       "4      Krati\n",
       "5      Sumit\n",
       "dtype: object"
      ]
     },
     "execution_count": 68,
     "metadata": {},
     "output_type": "execute_result"
    }
   ],
   "source": [
    "s = pd.Series(name)\n",
    "s"
   ]
  },
  {
   "cell_type": "code",
   "execution_count": 70,
   "id": "b097e240",
   "metadata": {},
   "outputs": [
    {
     "data": {
      "text/plain": [
       "'Geetika'"
      ]
     },
     "execution_count": 70,
     "metadata": {},
     "output_type": "execute_result"
    }
   ],
   "source": [
    "s.iloc[1]"
   ]
  },
  {
   "cell_type": "code",
   "execution_count": 71,
   "id": "1a2afcf0",
   "metadata": {},
   "outputs": [
    {
     "data": {
      "text/plain": [
       "'Sumit'"
      ]
     },
     "execution_count": 71,
     "metadata": {},
     "output_type": "execute_result"
    }
   ],
   "source": [
    "s.iloc[5]"
   ]
  },
  {
   "cell_type": "code",
   "execution_count": 72,
   "id": "fc8f1cf8",
   "metadata": {},
   "outputs": [
    {
     "data": {
      "text/plain": [
       "India      New_Delhi\n",
       "Russia        Moscow\n",
       "Vietnam        Hanoi\n",
       "China        Beijing\n",
       "U.K.          London\n",
       "Japan          Tokyo\n",
       "dtype: object"
      ]
     },
     "execution_count": 72,
     "metadata": {},
     "output_type": "execute_result"
    }
   ],
   "source": [
    "cc"
   ]
  },
  {
   "cell_type": "code",
   "execution_count": 73,
   "id": "5872ef1e",
   "metadata": {},
   "outputs": [
    {
     "data": {
      "text/plain": [
       "'London'"
      ]
     },
     "execution_count": 73,
     "metadata": {},
     "output_type": "execute_result"
    }
   ],
   "source": [
    "cc.iloc[4]"
   ]
  },
  {
   "cell_type": "code",
   "execution_count": 74,
   "id": "5442faf9",
   "metadata": {},
   "outputs": [
    {
     "data": {
      "text/plain": [
       "'Geetika'"
      ]
     },
     "execution_count": 74,
     "metadata": {},
     "output_type": "execute_result"
    }
   ],
   "source": [
    "s.loc[1]"
   ]
  },
  {
   "cell_type": "code",
   "execution_count": 75,
   "id": "b983e468",
   "metadata": {},
   "outputs": [
    {
     "data": {
      "text/plain": [
       "India      New_Delhi\n",
       "Russia        Moscow\n",
       "Vietnam        Hanoi\n",
       "China        Beijing\n",
       "U.K.          London\n",
       "Japan          Tokyo\n",
       "dtype: object"
      ]
     },
     "execution_count": 75,
     "metadata": {},
     "output_type": "execute_result"
    }
   ],
   "source": [
    "cc"
   ]
  },
  {
   "cell_type": "code",
   "execution_count": 76,
   "id": "f1c74f58",
   "metadata": {},
   "outputs": [
    {
     "ename": "KeyError",
     "evalue": "1",
     "output_type": "error",
     "traceback": [
      "\u001b[1;31m---------------------------------------------------------------------------\u001b[0m",
      "\u001b[1;31mKeyError\u001b[0m                                  Traceback (most recent call last)",
      "File \u001b[1;32m~\\anaconda3\\Lib\\site-packages\\pandas\\core\\indexes\\base.py:3653\u001b[0m, in \u001b[0;36mIndex.get_loc\u001b[1;34m(self, key)\u001b[0m\n\u001b[0;32m   3652\u001b[0m \u001b[38;5;28;01mtry\u001b[39;00m:\n\u001b[1;32m-> 3653\u001b[0m     \u001b[38;5;28;01mreturn\u001b[39;00m \u001b[38;5;28mself\u001b[39m\u001b[38;5;241m.\u001b[39m_engine\u001b[38;5;241m.\u001b[39mget_loc(casted_key)\n\u001b[0;32m   3654\u001b[0m \u001b[38;5;28;01mexcept\u001b[39;00m \u001b[38;5;167;01mKeyError\u001b[39;00m \u001b[38;5;28;01mas\u001b[39;00m err:\n",
      "File \u001b[1;32m~\\anaconda3\\Lib\\site-packages\\pandas\\_libs\\index.pyx:147\u001b[0m, in \u001b[0;36mpandas._libs.index.IndexEngine.get_loc\u001b[1;34m()\u001b[0m\n",
      "File \u001b[1;32m~\\anaconda3\\Lib\\site-packages\\pandas\\_libs\\index.pyx:176\u001b[0m, in \u001b[0;36mpandas._libs.index.IndexEngine.get_loc\u001b[1;34m()\u001b[0m\n",
      "File \u001b[1;32mpandas\\_libs\\hashtable_class_helper.pxi:7080\u001b[0m, in \u001b[0;36mpandas._libs.hashtable.PyObjectHashTable.get_item\u001b[1;34m()\u001b[0m\n",
      "File \u001b[1;32mpandas\\_libs\\hashtable_class_helper.pxi:7088\u001b[0m, in \u001b[0;36mpandas._libs.hashtable.PyObjectHashTable.get_item\u001b[1;34m()\u001b[0m\n",
      "\u001b[1;31mKeyError\u001b[0m: 1",
      "\nThe above exception was the direct cause of the following exception:\n",
      "\u001b[1;31mKeyError\u001b[0m                                  Traceback (most recent call last)",
      "Cell \u001b[1;32mIn[76], line 1\u001b[0m\n\u001b[1;32m----> 1\u001b[0m cc\u001b[38;5;241m.\u001b[39mloc[\u001b[38;5;241m1\u001b[39m]\n",
      "File \u001b[1;32m~\\anaconda3\\Lib\\site-packages\\pandas\\core\\indexing.py:1103\u001b[0m, in \u001b[0;36m_LocationIndexer.__getitem__\u001b[1;34m(self, key)\u001b[0m\n\u001b[0;32m   1100\u001b[0m axis \u001b[38;5;241m=\u001b[39m \u001b[38;5;28mself\u001b[39m\u001b[38;5;241m.\u001b[39maxis \u001b[38;5;129;01mor\u001b[39;00m \u001b[38;5;241m0\u001b[39m\n\u001b[0;32m   1102\u001b[0m maybe_callable \u001b[38;5;241m=\u001b[39m com\u001b[38;5;241m.\u001b[39mapply_if_callable(key, \u001b[38;5;28mself\u001b[39m\u001b[38;5;241m.\u001b[39mobj)\n\u001b[1;32m-> 1103\u001b[0m \u001b[38;5;28;01mreturn\u001b[39;00m \u001b[38;5;28mself\u001b[39m\u001b[38;5;241m.\u001b[39m_getitem_axis(maybe_callable, axis\u001b[38;5;241m=\u001b[39maxis)\n",
      "File \u001b[1;32m~\\anaconda3\\Lib\\site-packages\\pandas\\core\\indexing.py:1343\u001b[0m, in \u001b[0;36m_LocIndexer._getitem_axis\u001b[1;34m(self, key, axis)\u001b[0m\n\u001b[0;32m   1341\u001b[0m \u001b[38;5;66;03m# fall thru to straight lookup\u001b[39;00m\n\u001b[0;32m   1342\u001b[0m \u001b[38;5;28mself\u001b[39m\u001b[38;5;241m.\u001b[39m_validate_key(key, axis)\n\u001b[1;32m-> 1343\u001b[0m \u001b[38;5;28;01mreturn\u001b[39;00m \u001b[38;5;28mself\u001b[39m\u001b[38;5;241m.\u001b[39m_get_label(key, axis\u001b[38;5;241m=\u001b[39maxis)\n",
      "File \u001b[1;32m~\\anaconda3\\Lib\\site-packages\\pandas\\core\\indexing.py:1293\u001b[0m, in \u001b[0;36m_LocIndexer._get_label\u001b[1;34m(self, label, axis)\u001b[0m\n\u001b[0;32m   1291\u001b[0m \u001b[38;5;28;01mdef\u001b[39;00m \u001b[38;5;21m_get_label\u001b[39m(\u001b[38;5;28mself\u001b[39m, label, axis: AxisInt):\n\u001b[0;32m   1292\u001b[0m     \u001b[38;5;66;03m# GH#5567 this will fail if the label is not present in the axis.\u001b[39;00m\n\u001b[1;32m-> 1293\u001b[0m     \u001b[38;5;28;01mreturn\u001b[39;00m \u001b[38;5;28mself\u001b[39m\u001b[38;5;241m.\u001b[39mobj\u001b[38;5;241m.\u001b[39mxs(label, axis\u001b[38;5;241m=\u001b[39maxis)\n",
      "File \u001b[1;32m~\\anaconda3\\Lib\\site-packages\\pandas\\core\\generic.py:4095\u001b[0m, in \u001b[0;36mNDFrame.xs\u001b[1;34m(self, key, axis, level, drop_level)\u001b[0m\n\u001b[0;32m   4093\u001b[0m             new_index \u001b[38;5;241m=\u001b[39m index[loc]\n\u001b[0;32m   4094\u001b[0m \u001b[38;5;28;01melse\u001b[39;00m:\n\u001b[1;32m-> 4095\u001b[0m     loc \u001b[38;5;241m=\u001b[39m index\u001b[38;5;241m.\u001b[39mget_loc(key)\n\u001b[0;32m   4097\u001b[0m     \u001b[38;5;28;01mif\u001b[39;00m \u001b[38;5;28misinstance\u001b[39m(loc, np\u001b[38;5;241m.\u001b[39mndarray):\n\u001b[0;32m   4098\u001b[0m         \u001b[38;5;28;01mif\u001b[39;00m loc\u001b[38;5;241m.\u001b[39mdtype \u001b[38;5;241m==\u001b[39m np\u001b[38;5;241m.\u001b[39mbool_:\n",
      "File \u001b[1;32m~\\anaconda3\\Lib\\site-packages\\pandas\\core\\indexes\\base.py:3655\u001b[0m, in \u001b[0;36mIndex.get_loc\u001b[1;34m(self, key)\u001b[0m\n\u001b[0;32m   3653\u001b[0m     \u001b[38;5;28;01mreturn\u001b[39;00m \u001b[38;5;28mself\u001b[39m\u001b[38;5;241m.\u001b[39m_engine\u001b[38;5;241m.\u001b[39mget_loc(casted_key)\n\u001b[0;32m   3654\u001b[0m \u001b[38;5;28;01mexcept\u001b[39;00m \u001b[38;5;167;01mKeyError\u001b[39;00m \u001b[38;5;28;01mas\u001b[39;00m err:\n\u001b[1;32m-> 3655\u001b[0m     \u001b[38;5;28;01mraise\u001b[39;00m \u001b[38;5;167;01mKeyError\u001b[39;00m(key) \u001b[38;5;28;01mfrom\u001b[39;00m \u001b[38;5;21;01merr\u001b[39;00m\n\u001b[0;32m   3656\u001b[0m \u001b[38;5;28;01mexcept\u001b[39;00m \u001b[38;5;167;01mTypeError\u001b[39;00m:\n\u001b[0;32m   3657\u001b[0m     \u001b[38;5;66;03m# If we have a listlike key, _check_indexing_error will raise\u001b[39;00m\n\u001b[0;32m   3658\u001b[0m     \u001b[38;5;66;03m#  InvalidIndexError. Otherwise we fall through and re-raise\u001b[39;00m\n\u001b[0;32m   3659\u001b[0m     \u001b[38;5;66;03m#  the TypeError.\u001b[39;00m\n\u001b[0;32m   3660\u001b[0m     \u001b[38;5;28mself\u001b[39m\u001b[38;5;241m.\u001b[39m_check_indexing_error(key)\n",
      "\u001b[1;31mKeyError\u001b[0m: 1"
     ]
    }
   ],
   "source": [
    "cc.loc[1]"
   ]
  },
  {
   "cell_type": "code",
   "execution_count": 77,
   "id": "681a9fcf",
   "metadata": {},
   "outputs": [
    {
     "ename": "TypeError",
     "evalue": "Cannot index by location index with a non-integer key",
     "output_type": "error",
     "traceback": [
      "\u001b[1;31m---------------------------------------------------------------------------\u001b[0m",
      "\u001b[1;31mTypeError\u001b[0m                                 Traceback (most recent call last)",
      "Cell \u001b[1;32mIn[77], line 1\u001b[0m\n\u001b[1;32m----> 1\u001b[0m cc\u001b[38;5;241m.\u001b[39miloc[\u001b[38;5;124m'\u001b[39m\u001b[38;5;124mIndia\u001b[39m\u001b[38;5;124m'\u001b[39m]\n",
      "File \u001b[1;32m~\\anaconda3\\Lib\\site-packages\\pandas\\core\\indexing.py:1103\u001b[0m, in \u001b[0;36m_LocationIndexer.__getitem__\u001b[1;34m(self, key)\u001b[0m\n\u001b[0;32m   1100\u001b[0m axis \u001b[38;5;241m=\u001b[39m \u001b[38;5;28mself\u001b[39m\u001b[38;5;241m.\u001b[39maxis \u001b[38;5;129;01mor\u001b[39;00m \u001b[38;5;241m0\u001b[39m\n\u001b[0;32m   1102\u001b[0m maybe_callable \u001b[38;5;241m=\u001b[39m com\u001b[38;5;241m.\u001b[39mapply_if_callable(key, \u001b[38;5;28mself\u001b[39m\u001b[38;5;241m.\u001b[39mobj)\n\u001b[1;32m-> 1103\u001b[0m \u001b[38;5;28;01mreturn\u001b[39;00m \u001b[38;5;28mself\u001b[39m\u001b[38;5;241m.\u001b[39m_getitem_axis(maybe_callable, axis\u001b[38;5;241m=\u001b[39maxis)\n",
      "File \u001b[1;32m~\\anaconda3\\Lib\\site-packages\\pandas\\core\\indexing.py:1653\u001b[0m, in \u001b[0;36m_iLocIndexer._getitem_axis\u001b[1;34m(self, key, axis)\u001b[0m\n\u001b[0;32m   1651\u001b[0m key \u001b[38;5;241m=\u001b[39m item_from_zerodim(key)\n\u001b[0;32m   1652\u001b[0m \u001b[38;5;28;01mif\u001b[39;00m \u001b[38;5;129;01mnot\u001b[39;00m is_integer(key):\n\u001b[1;32m-> 1653\u001b[0m     \u001b[38;5;28;01mraise\u001b[39;00m \u001b[38;5;167;01mTypeError\u001b[39;00m(\u001b[38;5;124m\"\u001b[39m\u001b[38;5;124mCannot index by location index with a non-integer key\u001b[39m\u001b[38;5;124m\"\u001b[39m)\n\u001b[0;32m   1655\u001b[0m \u001b[38;5;66;03m# validate the location\u001b[39;00m\n\u001b[0;32m   1656\u001b[0m \u001b[38;5;28mself\u001b[39m\u001b[38;5;241m.\u001b[39m_validate_integer(key, axis)\n",
      "\u001b[1;31mTypeError\u001b[0m: Cannot index by location index with a non-integer key"
     ]
    }
   ],
   "source": [
    "cc.iloc['India']"
   ]
  },
  {
   "cell_type": "markdown",
   "id": "cca5808b",
   "metadata": {},
   "source": [
    "#### Slicing over the Series "
   ]
  },
  {
   "cell_type": "markdown",
   "id": "d7546792",
   "metadata": {},
   "source": [
    "Syntax: \n",
    "    \n",
    "- s.iloc[starting_index: ending_index: step_size] (implicit indexes) (act similar to the normal slicingof the string that we have studied)\n",
    "- s.loc[starting_index: ending_index: step_size] (explicit indexes) (labels) (here the ending index will be included so we dont have to give n+1 index)"
   ]
  },
  {
   "cell_type": "code",
   "execution_count": 79,
   "id": "f01b7356",
   "metadata": {},
   "outputs": [
    {
     "data": {
      "text/plain": [
       "India      New_Delhi\n",
       "Russia        Moscow\n",
       "Vietnam        Hanoi\n",
       "China        Beijing\n",
       "U.K.          London\n",
       "Japan          Tokyo\n",
       "dtype: object"
      ]
     },
     "execution_count": 79,
     "metadata": {},
     "output_type": "execute_result"
    }
   ],
   "source": [
    "cc"
   ]
  },
  {
   "cell_type": "code",
   "execution_count": 80,
   "id": "262a6a1e",
   "metadata": {},
   "outputs": [
    {
     "data": {
      "text/plain": [
       "Japan          Tokyo\n",
       "U.K.          London\n",
       "China        Beijing\n",
       "Vietnam        Hanoi\n",
       "Russia        Moscow\n",
       "India      New_Delhi\n",
       "dtype: object"
      ]
     },
     "execution_count": 80,
     "metadata": {},
     "output_type": "execute_result"
    }
   ],
   "source": [
    "# Fetch the series in the reverse order using iloc method\n",
    "\n",
    "cc.iloc[::-1]"
   ]
  },
  {
   "cell_type": "code",
   "execution_count": 82,
   "id": "729f2cbe",
   "metadata": {},
   "outputs": [
    {
     "data": {
      "text/plain": [
       "India     New_Delhi\n",
       "Russia       Moscow\n",
       "dtype: object"
      ]
     },
     "execution_count": 82,
     "metadata": {},
     "output_type": "execute_result"
    }
   ],
   "source": [
    "# Fetch out the first two rows using iloc\n",
    "\n",
    "cc.iloc[:2]"
   ]
  },
  {
   "cell_type": "code",
   "execution_count": 83,
   "id": "71c8d79b",
   "metadata": {},
   "outputs": [
    {
     "data": {
      "text/plain": [
       "India      New_Delhi\n",
       "Russia        Moscow\n",
       "Vietnam        Hanoi\n",
       "China        Beijing\n",
       "U.K.          London\n",
       "Japan          Tokyo\n",
       "dtype: object"
      ]
     },
     "execution_count": 83,
     "metadata": {},
     "output_type": "execute_result"
    }
   ],
   "source": [
    "cc"
   ]
  },
  {
   "cell_type": "code",
   "execution_count": 85,
   "id": "a25ec0b4",
   "metadata": {},
   "outputs": [
    {
     "data": {
      "text/plain": [
       "India     New_Delhi\n",
       "Russia       Moscow\n",
       "dtype: object"
      ]
     },
     "execution_count": 85,
     "metadata": {},
     "output_type": "execute_result"
    }
   ],
   "source": [
    "# Fetch the first two rows using loc method\n",
    "\n",
    "cc.loc['India':'Russia']"
   ]
  },
  {
   "cell_type": "code",
   "execution_count": 86,
   "id": "dd31bdba",
   "metadata": {},
   "outputs": [
    {
     "data": {
      "text/plain": [
       "0     Mayank\n",
       "1    Geetika\n",
       "2    Rishabh\n",
       "3     Deepak\n",
       "4      Krati\n",
       "5      Sumit\n",
       "dtype: object"
      ]
     },
     "execution_count": 86,
     "metadata": {},
     "output_type": "execute_result"
    }
   ],
   "source": [
    "s"
   ]
  },
  {
   "cell_type": "code",
   "execution_count": 88,
   "id": "3f9662d1",
   "metadata": {},
   "outputs": [
    {
     "data": {
      "text/plain": [
       "0     Mayank\n",
       "1    Geetika\n",
       "2    Rishabh\n",
       "3     Deepak\n",
       "4      Krati\n",
       "dtype: object"
      ]
     },
     "execution_count": 88,
     "metadata": {},
     "output_type": "execute_result"
    }
   ],
   "source": [
    "s.loc[0:4]"
   ]
  },
  {
   "cell_type": "code",
   "execution_count": 89,
   "id": "910edc24",
   "metadata": {},
   "outputs": [
    {
     "data": {
      "text/plain": [
       "India      New_Delhi\n",
       "Russia        Moscow\n",
       "Vietnam        Hanoi\n",
       "China        Beijing\n",
       "U.K.          London\n",
       "Japan          Tokyo\n",
       "dtype: object"
      ]
     },
     "execution_count": 89,
     "metadata": {},
     "output_type": "execute_result"
    }
   ],
   "source": [
    "cc"
   ]
  },
  {
   "cell_type": "code",
   "execution_count": 91,
   "id": "48b19ca3",
   "metadata": {},
   "outputs": [
    {
     "data": {
      "text/plain": [
       "India      New_Delhi\n",
       "Vietnam        Hanoi\n",
       "U.K.          London\n",
       "dtype: object"
      ]
     },
     "execution_count": 91,
     "metadata": {},
     "output_type": "execute_result"
    }
   ],
   "source": [
    "# Fetch out the values at a step size of 2 with loc \n",
    "\n",
    "cc.loc[::2]"
   ]
  },
  {
   "cell_type": "code",
   "execution_count": 93,
   "id": "2bd8e3d4",
   "metadata": {},
   "outputs": [
    {
     "data": {
      "text/plain": [
       "India      New_Delhi\n",
       "Vietnam        Hanoi\n",
       "U.K.          London\n",
       "dtype: object"
      ]
     },
     "execution_count": 93,
     "metadata": {},
     "output_type": "execute_result"
    }
   ],
   "source": [
    "cc.loc[::2]"
   ]
  },
  {
   "cell_type": "code",
   "execution_count": 94,
   "id": "d50575cc",
   "metadata": {},
   "outputs": [
    {
     "data": {
      "text/plain": [
       "India      New_Delhi\n",
       "Vietnam        Hanoi\n",
       "U.K.          London\n",
       "dtype: object"
      ]
     },
     "execution_count": 94,
     "metadata": {},
     "output_type": "execute_result"
    }
   ],
   "source": [
    "cc.loc['India':'Japan':2]"
   ]
  },
  {
   "cell_type": "code",
   "execution_count": 96,
   "id": "81c77f76",
   "metadata": {},
   "outputs": [
    {
     "data": {
      "text/plain": [
       "Japan       Tokyo\n",
       "China     Beijing\n",
       "Russia     Moscow\n",
       "dtype: object"
      ]
     },
     "execution_count": 96,
     "metadata": {},
     "output_type": "execute_result"
    }
   ],
   "source": [
    "# Fetch all the 2nd elements in the reverse order\n",
    "\n",
    "cc.loc[::-1][::2]"
   ]
  },
  {
   "cell_type": "code",
   "execution_count": 97,
   "id": "e7ab8801",
   "metadata": {},
   "outputs": [
    {
     "data": {
      "text/plain": [
       "Japan       Tokyo\n",
       "China     Beijing\n",
       "Russia     Moscow\n",
       "dtype: object"
      ]
     },
     "execution_count": 97,
     "metadata": {},
     "output_type": "execute_result"
    }
   ],
   "source": [
    "cc.loc[::-2]"
   ]
  },
  {
   "cell_type": "code",
   "execution_count": 98,
   "id": "77b4a409",
   "metadata": {},
   "outputs": [
    {
     "ename": "TypeError",
     "evalue": "cannot do slice indexing on Index with these indexers [0] of type int",
     "output_type": "error",
     "traceback": [
      "\u001b[1;31m---------------------------------------------------------------------------\u001b[0m",
      "\u001b[1;31mTypeError\u001b[0m                                 Traceback (most recent call last)",
      "Cell \u001b[1;32mIn[98], line 1\u001b[0m\n\u001b[1;32m----> 1\u001b[0m cc\u001b[38;5;241m.\u001b[39mloc[\u001b[38;5;241m0\u001b[39m:\u001b[38;5;241m2\u001b[39m]\n",
      "File \u001b[1;32m~\\anaconda3\\Lib\\site-packages\\pandas\\core\\indexing.py:1103\u001b[0m, in \u001b[0;36m_LocationIndexer.__getitem__\u001b[1;34m(self, key)\u001b[0m\n\u001b[0;32m   1100\u001b[0m axis \u001b[38;5;241m=\u001b[39m \u001b[38;5;28mself\u001b[39m\u001b[38;5;241m.\u001b[39maxis \u001b[38;5;129;01mor\u001b[39;00m \u001b[38;5;241m0\u001b[39m\n\u001b[0;32m   1102\u001b[0m maybe_callable \u001b[38;5;241m=\u001b[39m com\u001b[38;5;241m.\u001b[39mapply_if_callable(key, \u001b[38;5;28mself\u001b[39m\u001b[38;5;241m.\u001b[39mobj)\n\u001b[1;32m-> 1103\u001b[0m \u001b[38;5;28;01mreturn\u001b[39;00m \u001b[38;5;28mself\u001b[39m\u001b[38;5;241m.\u001b[39m_getitem_axis(maybe_callable, axis\u001b[38;5;241m=\u001b[39maxis)\n",
      "File \u001b[1;32m~\\anaconda3\\Lib\\site-packages\\pandas\\core\\indexing.py:1323\u001b[0m, in \u001b[0;36m_LocIndexer._getitem_axis\u001b[1;34m(self, key, axis)\u001b[0m\n\u001b[0;32m   1321\u001b[0m \u001b[38;5;28;01mif\u001b[39;00m \u001b[38;5;28misinstance\u001b[39m(key, \u001b[38;5;28mslice\u001b[39m):\n\u001b[0;32m   1322\u001b[0m     \u001b[38;5;28mself\u001b[39m\u001b[38;5;241m.\u001b[39m_validate_key(key, axis)\n\u001b[1;32m-> 1323\u001b[0m     \u001b[38;5;28;01mreturn\u001b[39;00m \u001b[38;5;28mself\u001b[39m\u001b[38;5;241m.\u001b[39m_get_slice_axis(key, axis\u001b[38;5;241m=\u001b[39maxis)\n\u001b[0;32m   1324\u001b[0m \u001b[38;5;28;01melif\u001b[39;00m com\u001b[38;5;241m.\u001b[39mis_bool_indexer(key):\n\u001b[0;32m   1325\u001b[0m     \u001b[38;5;28;01mreturn\u001b[39;00m \u001b[38;5;28mself\u001b[39m\u001b[38;5;241m.\u001b[39m_getbool_axis(key, axis\u001b[38;5;241m=\u001b[39maxis)\n",
      "File \u001b[1;32m~\\anaconda3\\Lib\\site-packages\\pandas\\core\\indexing.py:1355\u001b[0m, in \u001b[0;36m_LocIndexer._get_slice_axis\u001b[1;34m(self, slice_obj, axis)\u001b[0m\n\u001b[0;32m   1352\u001b[0m     \u001b[38;5;28;01mreturn\u001b[39;00m obj\u001b[38;5;241m.\u001b[39mcopy(deep\u001b[38;5;241m=\u001b[39m\u001b[38;5;28;01mFalse\u001b[39;00m)\n\u001b[0;32m   1354\u001b[0m labels \u001b[38;5;241m=\u001b[39m obj\u001b[38;5;241m.\u001b[39m_get_axis(axis)\n\u001b[1;32m-> 1355\u001b[0m indexer \u001b[38;5;241m=\u001b[39m labels\u001b[38;5;241m.\u001b[39mslice_indexer(slice_obj\u001b[38;5;241m.\u001b[39mstart, slice_obj\u001b[38;5;241m.\u001b[39mstop, slice_obj\u001b[38;5;241m.\u001b[39mstep)\n\u001b[0;32m   1357\u001b[0m \u001b[38;5;28;01mif\u001b[39;00m \u001b[38;5;28misinstance\u001b[39m(indexer, \u001b[38;5;28mslice\u001b[39m):\n\u001b[0;32m   1358\u001b[0m     \u001b[38;5;28;01mreturn\u001b[39;00m \u001b[38;5;28mself\u001b[39m\u001b[38;5;241m.\u001b[39mobj\u001b[38;5;241m.\u001b[39m_slice(indexer, axis\u001b[38;5;241m=\u001b[39maxis)\n",
      "File \u001b[1;32m~\\anaconda3\\Lib\\site-packages\\pandas\\core\\indexes\\base.py:6344\u001b[0m, in \u001b[0;36mIndex.slice_indexer\u001b[1;34m(self, start, end, step)\u001b[0m\n\u001b[0;32m   6300\u001b[0m \u001b[38;5;28;01mdef\u001b[39;00m \u001b[38;5;21mslice_indexer\u001b[39m(\n\u001b[0;32m   6301\u001b[0m     \u001b[38;5;28mself\u001b[39m,\n\u001b[0;32m   6302\u001b[0m     start: Hashable \u001b[38;5;241m|\u001b[39m \u001b[38;5;28;01mNone\u001b[39;00m \u001b[38;5;241m=\u001b[39m \u001b[38;5;28;01mNone\u001b[39;00m,\n\u001b[0;32m   6303\u001b[0m     end: Hashable \u001b[38;5;241m|\u001b[39m \u001b[38;5;28;01mNone\u001b[39;00m \u001b[38;5;241m=\u001b[39m \u001b[38;5;28;01mNone\u001b[39;00m,\n\u001b[0;32m   6304\u001b[0m     step: \u001b[38;5;28mint\u001b[39m \u001b[38;5;241m|\u001b[39m \u001b[38;5;28;01mNone\u001b[39;00m \u001b[38;5;241m=\u001b[39m \u001b[38;5;28;01mNone\u001b[39;00m,\n\u001b[0;32m   6305\u001b[0m ) \u001b[38;5;241m-\u001b[39m\u001b[38;5;241m>\u001b[39m \u001b[38;5;28mslice\u001b[39m:\n\u001b[0;32m   6306\u001b[0m \u001b[38;5;250m    \u001b[39m\u001b[38;5;124;03m\"\"\"\u001b[39;00m\n\u001b[0;32m   6307\u001b[0m \u001b[38;5;124;03m    Compute the slice indexer for input labels and step.\u001b[39;00m\n\u001b[0;32m   6308\u001b[0m \n\u001b[1;32m   (...)\u001b[0m\n\u001b[0;32m   6342\u001b[0m \u001b[38;5;124;03m    slice(1, 3, None)\u001b[39;00m\n\u001b[0;32m   6343\u001b[0m \u001b[38;5;124;03m    \"\"\"\u001b[39;00m\n\u001b[1;32m-> 6344\u001b[0m     start_slice, end_slice \u001b[38;5;241m=\u001b[39m \u001b[38;5;28mself\u001b[39m\u001b[38;5;241m.\u001b[39mslice_locs(start, end, step\u001b[38;5;241m=\u001b[39mstep)\n\u001b[0;32m   6346\u001b[0m     \u001b[38;5;66;03m# return a slice\u001b[39;00m\n\u001b[0;32m   6347\u001b[0m     \u001b[38;5;28;01mif\u001b[39;00m \u001b[38;5;129;01mnot\u001b[39;00m is_scalar(start_slice):\n",
      "File \u001b[1;32m~\\anaconda3\\Lib\\site-packages\\pandas\\core\\indexes\\base.py:6537\u001b[0m, in \u001b[0;36mIndex.slice_locs\u001b[1;34m(self, start, end, step)\u001b[0m\n\u001b[0;32m   6535\u001b[0m start_slice \u001b[38;5;241m=\u001b[39m \u001b[38;5;28;01mNone\u001b[39;00m\n\u001b[0;32m   6536\u001b[0m \u001b[38;5;28;01mif\u001b[39;00m start \u001b[38;5;129;01mis\u001b[39;00m \u001b[38;5;129;01mnot\u001b[39;00m \u001b[38;5;28;01mNone\u001b[39;00m:\n\u001b[1;32m-> 6537\u001b[0m     start_slice \u001b[38;5;241m=\u001b[39m \u001b[38;5;28mself\u001b[39m\u001b[38;5;241m.\u001b[39mget_slice_bound(start, \u001b[38;5;124m\"\u001b[39m\u001b[38;5;124mleft\u001b[39m\u001b[38;5;124m\"\u001b[39m)\n\u001b[0;32m   6538\u001b[0m \u001b[38;5;28;01mif\u001b[39;00m start_slice \u001b[38;5;129;01mis\u001b[39;00m \u001b[38;5;28;01mNone\u001b[39;00m:\n\u001b[0;32m   6539\u001b[0m     start_slice \u001b[38;5;241m=\u001b[39m \u001b[38;5;241m0\u001b[39m\n",
      "File \u001b[1;32m~\\anaconda3\\Lib\\site-packages\\pandas\\core\\indexes\\base.py:6452\u001b[0m, in \u001b[0;36mIndex.get_slice_bound\u001b[1;34m(self, label, side)\u001b[0m\n\u001b[0;32m   6448\u001b[0m original_label \u001b[38;5;241m=\u001b[39m label\n\u001b[0;32m   6450\u001b[0m \u001b[38;5;66;03m# For datetime indices label may be a string that has to be converted\u001b[39;00m\n\u001b[0;32m   6451\u001b[0m \u001b[38;5;66;03m# to datetime boundary according to its resolution.\u001b[39;00m\n\u001b[1;32m-> 6452\u001b[0m label \u001b[38;5;241m=\u001b[39m \u001b[38;5;28mself\u001b[39m\u001b[38;5;241m.\u001b[39m_maybe_cast_slice_bound(label, side)\n\u001b[0;32m   6454\u001b[0m \u001b[38;5;66;03m# we need to look up the label\u001b[39;00m\n\u001b[0;32m   6455\u001b[0m \u001b[38;5;28;01mtry\u001b[39;00m:\n",
      "File \u001b[1;32m~\\anaconda3\\Lib\\site-packages\\pandas\\core\\indexes\\base.py:6406\u001b[0m, in \u001b[0;36mIndex._maybe_cast_slice_bound\u001b[1;34m(self, label, side)\u001b[0m\n\u001b[0;32m   6404\u001b[0m \u001b[38;5;66;03m# reject them, if index does not contain label\u001b[39;00m\n\u001b[0;32m   6405\u001b[0m \u001b[38;5;28;01mif\u001b[39;00m (is_float(label) \u001b[38;5;129;01mor\u001b[39;00m is_integer(label)) \u001b[38;5;129;01mand\u001b[39;00m label \u001b[38;5;129;01mnot\u001b[39;00m \u001b[38;5;129;01min\u001b[39;00m \u001b[38;5;28mself\u001b[39m:\n\u001b[1;32m-> 6406\u001b[0m     \u001b[38;5;28mself\u001b[39m\u001b[38;5;241m.\u001b[39m_raise_invalid_indexer(\u001b[38;5;124m\"\u001b[39m\u001b[38;5;124mslice\u001b[39m\u001b[38;5;124m\"\u001b[39m, label)\n\u001b[0;32m   6408\u001b[0m \u001b[38;5;28;01mreturn\u001b[39;00m label\n",
      "File \u001b[1;32m~\\anaconda3\\Lib\\site-packages\\pandas\\core\\indexes\\base.py:4152\u001b[0m, in \u001b[0;36mIndex._raise_invalid_indexer\u001b[1;34m(self, form, key, reraise)\u001b[0m\n\u001b[0;32m   4150\u001b[0m \u001b[38;5;28;01mif\u001b[39;00m reraise \u001b[38;5;129;01mis\u001b[39;00m \u001b[38;5;129;01mnot\u001b[39;00m lib\u001b[38;5;241m.\u001b[39mno_default:\n\u001b[0;32m   4151\u001b[0m     \u001b[38;5;28;01mraise\u001b[39;00m \u001b[38;5;167;01mTypeError\u001b[39;00m(msg) \u001b[38;5;28;01mfrom\u001b[39;00m \u001b[38;5;21;01mreraise\u001b[39;00m\n\u001b[1;32m-> 4152\u001b[0m \u001b[38;5;28;01mraise\u001b[39;00m \u001b[38;5;167;01mTypeError\u001b[39;00m(msg)\n",
      "\u001b[1;31mTypeError\u001b[0m: cannot do slice indexing on Index with these indexers [0] of type int"
     ]
    }
   ],
   "source": [
    "cc.loc[0:2]"
   ]
  },
  {
   "cell_type": "markdown",
   "id": "dc98e40f",
   "metadata": {},
   "source": [
    "### Operations on a Series\n",
    "\n"
   ]
  },
  {
   "cell_type": "code",
   "execution_count": 99,
   "id": "379144c5",
   "metadata": {},
   "outputs": [],
   "source": [
    "np.random.seed(10)\n",
    "arr = np.random.randint(10,100,12)"
   ]
  },
  {
   "cell_type": "code",
   "execution_count": 100,
   "id": "d843e226",
   "metadata": {},
   "outputs": [
    {
     "data": {
      "text/plain": [
       "array([19, 25, 74, 38, 99, 39, 18, 83, 10, 50, 46, 26])"
      ]
     },
     "execution_count": 100,
     "metadata": {},
     "output_type": "execute_result"
    }
   ],
   "source": [
    "arr"
   ]
  },
  {
   "cell_type": "code",
   "execution_count": 101,
   "id": "6389e24d",
   "metadata": {},
   "outputs": [
    {
     "data": {
      "text/plain": [
       "0     19\n",
       "1     25\n",
       "2     74\n",
       "3     38\n",
       "4     99\n",
       "5     39\n",
       "6     18\n",
       "7     83\n",
       "8     10\n",
       "9     50\n",
       "10    46\n",
       "11    26\n",
       "dtype: int32"
      ]
     },
     "execution_count": 101,
     "metadata": {},
     "output_type": "execute_result"
    }
   ],
   "source": [
    "num = pd.Series(arr)\n",
    "num"
   ]
  },
  {
   "cell_type": "markdown",
   "id": "d23d9c96",
   "metadata": {},
   "source": [
    "### Sum"
   ]
  },
  {
   "cell_type": "code",
   "execution_count": 102,
   "id": "765b5bb0",
   "metadata": {},
   "outputs": [
    {
     "data": {
      "text/plain": [
       "527"
      ]
     },
     "execution_count": 102,
     "metadata": {},
     "output_type": "execute_result"
    }
   ],
   "source": [
    "num.sum()"
   ]
  },
  {
   "cell_type": "markdown",
   "id": "d7d3db01",
   "metadata": {},
   "source": [
    "### Mean"
   ]
  },
  {
   "cell_type": "code",
   "execution_count": 103,
   "id": "3cd0750e",
   "metadata": {},
   "outputs": [
    {
     "data": {
      "text/plain": [
       "43.916666666666664"
      ]
     },
     "execution_count": 103,
     "metadata": {},
     "output_type": "execute_result"
    }
   ],
   "source": [
    "num.mean()"
   ]
  },
  {
   "cell_type": "markdown",
   "id": "3ca15884",
   "metadata": {},
   "source": [
    "### Median"
   ]
  },
  {
   "cell_type": "code",
   "execution_count": 104,
   "id": "a62b16b4",
   "metadata": {},
   "outputs": [
    {
     "data": {
      "text/plain": [
       "38.5"
      ]
     },
     "execution_count": 104,
     "metadata": {},
     "output_type": "execute_result"
    }
   ],
   "source": [
    "num.median()"
   ]
  },
  {
   "cell_type": "markdown",
   "id": "4965577f",
   "metadata": {},
   "source": [
    "### Variance"
   ]
  },
  {
   "cell_type": "code",
   "execution_count": 105,
   "id": "2473bbcd",
   "metadata": {},
   "outputs": [
    {
     "data": {
      "text/plain": [
       "789.9015151515152"
      ]
     },
     "execution_count": 105,
     "metadata": {},
     "output_type": "execute_result"
    }
   ],
   "source": [
    "num.var()"
   ]
  },
  {
   "cell_type": "markdown",
   "id": "2b249a39",
   "metadata": {},
   "source": [
    "### Standard Deviation"
   ]
  },
  {
   "cell_type": "code",
   "execution_count": 106,
   "id": "c9415aa3",
   "metadata": {},
   "outputs": [
    {
     "data": {
      "text/plain": [
       "28.10518662367349"
      ]
     },
     "execution_count": 106,
     "metadata": {},
     "output_type": "execute_result"
    }
   ],
   "source": [
    "num.std()"
   ]
  },
  {
   "cell_type": "code",
   "execution_count": 108,
   "id": "a59e0b42",
   "metadata": {},
   "outputs": [
    {
     "data": {
      "text/plain": [
       "28.10518662367349"
      ]
     },
     "execution_count": 108,
     "metadata": {},
     "output_type": "execute_result"
    }
   ],
   "source": [
    "(num.var())**(1/2)"
   ]
  },
  {
   "cell_type": "markdown",
   "id": "bc1778b2",
   "metadata": {},
   "source": [
    "### Max"
   ]
  },
  {
   "cell_type": "code",
   "execution_count": 109,
   "id": "3a3b0274",
   "metadata": {},
   "outputs": [
    {
     "data": {
      "text/plain": [
       "99"
      ]
     },
     "execution_count": 109,
     "metadata": {},
     "output_type": "execute_result"
    }
   ],
   "source": [
    "num.max()"
   ]
  },
  {
   "cell_type": "markdown",
   "id": "ae6ffa8b",
   "metadata": {},
   "source": [
    "### Min"
   ]
  },
  {
   "cell_type": "code",
   "execution_count": 110,
   "id": "047dbf4a",
   "metadata": {},
   "outputs": [
    {
     "data": {
      "text/plain": [
       "10"
      ]
     },
     "execution_count": 110,
     "metadata": {},
     "output_type": "execute_result"
    }
   ],
   "source": [
    "num.min()"
   ]
  },
  {
   "cell_type": "markdown",
   "id": "f527f04d",
   "metadata": {},
   "source": [
    "#### Sorting a series \n",
    "\n",
    "    Syntax:-\n",
    "        \n",
    "        ser.sort_values()"
   ]
  },
  {
   "cell_type": "code",
   "execution_count": 112,
   "id": "df7037e8",
   "metadata": {},
   "outputs": [
    {
     "data": {
      "text/plain": [
       "0     19\n",
       "1     25\n",
       "2     74\n",
       "3     38\n",
       "4     99\n",
       "5     39\n",
       "6     18\n",
       "7     83\n",
       "8     10\n",
       "9     50\n",
       "10    46\n",
       "11    26\n",
       "dtype: int32"
      ]
     },
     "execution_count": 112,
     "metadata": {},
     "output_type": "execute_result"
    }
   ],
   "source": [
    "num"
   ]
  },
  {
   "cell_type": "code",
   "execution_count": 113,
   "id": "31ad931d",
   "metadata": {},
   "outputs": [
    {
     "data": {
      "text/plain": [
       "8     10\n",
       "6     18\n",
       "0     19\n",
       "1     25\n",
       "11    26\n",
       "3     38\n",
       "5     39\n",
       "10    46\n",
       "9     50\n",
       "2     74\n",
       "7     83\n",
       "4     99\n",
       "dtype: int32"
      ]
     },
     "execution_count": 113,
     "metadata": {},
     "output_type": "execute_result"
    }
   ],
   "source": [
    "num.sort_values()"
   ]
  },
  {
   "cell_type": "code",
   "execution_count": 114,
   "id": "99d80045",
   "metadata": {},
   "outputs": [
    {
     "data": {
      "text/plain": [
       "0     10\n",
       "1     18\n",
       "2     19\n",
       "3     25\n",
       "4     26\n",
       "5     38\n",
       "6     39\n",
       "7     46\n",
       "8     50\n",
       "9     74\n",
       "10    83\n",
       "11    99\n",
       "dtype: int32"
      ]
     },
     "execution_count": 114,
     "metadata": {},
     "output_type": "execute_result"
    }
   ],
   "source": [
    "num.sort_values(ignore_index = True)"
   ]
  },
  {
   "cell_type": "markdown",
   "id": "5b6ac235",
   "metadata": {},
   "source": [
    "#### Descending order "
   ]
  },
  {
   "cell_type": "code",
   "execution_count": 115,
   "id": "69392cc5",
   "metadata": {},
   "outputs": [
    {
     "data": {
      "text/plain": [
       "0     19\n",
       "1     25\n",
       "2     74\n",
       "3     38\n",
       "4     99\n",
       "5     39\n",
       "6     18\n",
       "7     83\n",
       "8     10\n",
       "9     50\n",
       "10    46\n",
       "11    26\n",
       "dtype: int32"
      ]
     },
     "execution_count": 115,
     "metadata": {},
     "output_type": "execute_result"
    }
   ],
   "source": [
    "num"
   ]
  },
  {
   "cell_type": "code",
   "execution_count": 116,
   "id": "ae279646",
   "metadata": {},
   "outputs": [
    {
     "data": {
      "text/plain": [
       "0     99\n",
       "1     83\n",
       "2     74\n",
       "3     50\n",
       "4     46\n",
       "5     39\n",
       "6     38\n",
       "7     26\n",
       "8     25\n",
       "9     19\n",
       "10    18\n",
       "11    10\n",
       "dtype: int32"
      ]
     },
     "execution_count": 116,
     "metadata": {},
     "output_type": "execute_result"
    }
   ],
   "source": [
    "num.sort_values(ascending = False, ignore_index = True)"
   ]
  },
  {
   "cell_type": "code",
   "execution_count": 118,
   "id": "e4208c08",
   "metadata": {},
   "outputs": [
    {
     "data": {
      "text/plain": [
       "8     10\n",
       "6     18\n",
       "0     19\n",
       "1     25\n",
       "11    26\n",
       "3     38\n",
       "5     39\n",
       "10    46\n",
       "9     50\n",
       "2     74\n",
       "7     83\n",
       "4     99\n",
       "dtype: int32"
      ]
     },
     "execution_count": 118,
     "metadata": {},
     "output_type": "execute_result"
    }
   ],
   "source": [
    "num.sort_values()"
   ]
  },
  {
   "cell_type": "markdown",
   "id": "8490b6ab",
   "metadata": {},
   "source": [
    "### 2. DataFrame \n",
    "\n",
    "- It is a 2D array structure \n",
    "- It is considered as an excel table \n",
    "- It is a collection of rows and columns"
   ]
  },
  {
   "cell_type": "markdown",
   "id": "d89998ff",
   "metadata": {},
   "source": [
    "#### How to create a DataFrame\n",
    "\n",
    "Syntax:-\n",
    "    \n",
    "    pd.DataFrame()"
   ]
  },
  {
   "cell_type": "markdown",
   "id": "0b543d9c",
   "metadata": {},
   "source": [
    "#### Case-1  Using a 2D list"
   ]
  },
  {
   "cell_type": "code",
   "execution_count": 119,
   "id": "0f6679b6",
   "metadata": {},
   "outputs": [],
   "source": [
    "name = ['Mayank', 'Rishabh', 'Geetika', 'Deepak', 'Priya', 'Abha']\n",
    "ID = [101,102,103,104, 105, 106]\n",
    "city = ['Bengaluru', 'Nodia', 'Ambala', 'Chandigarh', 'Surat', 'Mohali']"
   ]
  },
  {
   "cell_type": "code",
   "execution_count": 120,
   "id": "25406c30",
   "metadata": {},
   "outputs": [
    {
     "data": {
      "text/plain": [
       "[['Mayank', 'Rishabh', 'Geetika', 'Deepak', 'Priya', 'Abha'],\n",
       " [101, 102, 103, 104, 105, 106],\n",
       " ['Bengaluru', 'Nodia', 'Ambala', 'Chandigarh', 'Surat', 'Mohali']]"
      ]
     },
     "execution_count": 120,
     "metadata": {},
     "output_type": "execute_result"
    }
   ],
   "source": [
    "lst = [name, ID, city]\n",
    "lst"
   ]
  },
  {
   "cell_type": "code",
   "execution_count": 122,
   "id": "5fa1632a",
   "metadata": {},
   "outputs": [
    {
     "data": {
      "text/html": [
       "<div>\n",
       "<style scoped>\n",
       "    .dataframe tbody tr th:only-of-type {\n",
       "        vertical-align: middle;\n",
       "    }\n",
       "\n",
       "    .dataframe tbody tr th {\n",
       "        vertical-align: top;\n",
       "    }\n",
       "\n",
       "    .dataframe thead th {\n",
       "        text-align: right;\n",
       "    }\n",
       "</style>\n",
       "<table border=\"1\" class=\"dataframe\">\n",
       "  <thead>\n",
       "    <tr style=\"text-align: right;\">\n",
       "      <th></th>\n",
       "      <th>0</th>\n",
       "      <th>1</th>\n",
       "      <th>2</th>\n",
       "      <th>3</th>\n",
       "      <th>4</th>\n",
       "      <th>5</th>\n",
       "    </tr>\n",
       "  </thead>\n",
       "  <tbody>\n",
       "    <tr>\n",
       "      <th>0</th>\n",
       "      <td>Mayank</td>\n",
       "      <td>Rishabh</td>\n",
       "      <td>Geetika</td>\n",
       "      <td>Deepak</td>\n",
       "      <td>Priya</td>\n",
       "      <td>Abha</td>\n",
       "    </tr>\n",
       "    <tr>\n",
       "      <th>1</th>\n",
       "      <td>101</td>\n",
       "      <td>102</td>\n",
       "      <td>103</td>\n",
       "      <td>104</td>\n",
       "      <td>105</td>\n",
       "      <td>106</td>\n",
       "    </tr>\n",
       "    <tr>\n",
       "      <th>2</th>\n",
       "      <td>Bengaluru</td>\n",
       "      <td>Nodia</td>\n",
       "      <td>Ambala</td>\n",
       "      <td>Chandigarh</td>\n",
       "      <td>Surat</td>\n",
       "      <td>Mohali</td>\n",
       "    </tr>\n",
       "  </tbody>\n",
       "</table>\n",
       "</div>"
      ],
      "text/plain": [
       "           0        1        2           3      4       5\n",
       "0     Mayank  Rishabh  Geetika      Deepak  Priya    Abha\n",
       "1        101      102      103         104    105     106\n",
       "2  Bengaluru    Nodia   Ambala  Chandigarh  Surat  Mohali"
      ]
     },
     "execution_count": 122,
     "metadata": {},
     "output_type": "execute_result"
    }
   ],
   "source": [
    "df = pd.DataFrame(lst)\n",
    "df"
   ]
  },
  {
   "cell_type": "code",
   "execution_count": 124,
   "id": "af26e643",
   "metadata": {},
   "outputs": [
    {
     "data": {
      "text/html": [
       "<div>\n",
       "<style scoped>\n",
       "    .dataframe tbody tr th:only-of-type {\n",
       "        vertical-align: middle;\n",
       "    }\n",
       "\n",
       "    .dataframe tbody tr th {\n",
       "        vertical-align: top;\n",
       "    }\n",
       "\n",
       "    .dataframe thead th {\n",
       "        text-align: right;\n",
       "    }\n",
       "</style>\n",
       "<table border=\"1\" class=\"dataframe\">\n",
       "  <thead>\n",
       "    <tr style=\"text-align: right;\">\n",
       "      <th></th>\n",
       "      <th>0</th>\n",
       "      <th>1</th>\n",
       "      <th>2</th>\n",
       "    </tr>\n",
       "  </thead>\n",
       "  <tbody>\n",
       "    <tr>\n",
       "      <th>0</th>\n",
       "      <td>Mayank</td>\n",
       "      <td>101</td>\n",
       "      <td>Bengaluru</td>\n",
       "    </tr>\n",
       "    <tr>\n",
       "      <th>1</th>\n",
       "      <td>Rishabh</td>\n",
       "      <td>102</td>\n",
       "      <td>Nodia</td>\n",
       "    </tr>\n",
       "    <tr>\n",
       "      <th>2</th>\n",
       "      <td>Geetika</td>\n",
       "      <td>103</td>\n",
       "      <td>Ambala</td>\n",
       "    </tr>\n",
       "    <tr>\n",
       "      <th>3</th>\n",
       "      <td>Deepak</td>\n",
       "      <td>104</td>\n",
       "      <td>Chandigarh</td>\n",
       "    </tr>\n",
       "    <tr>\n",
       "      <th>4</th>\n",
       "      <td>Priya</td>\n",
       "      <td>105</td>\n",
       "      <td>Surat</td>\n",
       "    </tr>\n",
       "    <tr>\n",
       "      <th>5</th>\n",
       "      <td>Abha</td>\n",
       "      <td>106</td>\n",
       "      <td>Mohali</td>\n",
       "    </tr>\n",
       "  </tbody>\n",
       "</table>\n",
       "</div>"
      ],
      "text/plain": [
       "         0    1           2\n",
       "0   Mayank  101   Bengaluru\n",
       "1  Rishabh  102       Nodia\n",
       "2  Geetika  103      Ambala\n",
       "3   Deepak  104  Chandigarh\n",
       "4    Priya  105       Surat\n",
       "5     Abha  106      Mohali"
      ]
     },
     "execution_count": 124,
     "metadata": {},
     "output_type": "execute_result"
    }
   ],
   "source": [
    "df = pd.DataFrame(lst).T # Transpose (column will becomes rows and rows will become column)\n",
    "df"
   ]
  },
  {
   "cell_type": "code",
   "execution_count": 125,
   "id": "a8e85185",
   "metadata": {},
   "outputs": [],
   "source": [
    "df.columns = ['Name', 'ID', 'City']"
   ]
  },
  {
   "cell_type": "code",
   "execution_count": 126,
   "id": "23259131",
   "metadata": {},
   "outputs": [
    {
     "data": {
      "text/html": [
       "<div>\n",
       "<style scoped>\n",
       "    .dataframe tbody tr th:only-of-type {\n",
       "        vertical-align: middle;\n",
       "    }\n",
       "\n",
       "    .dataframe tbody tr th {\n",
       "        vertical-align: top;\n",
       "    }\n",
       "\n",
       "    .dataframe thead th {\n",
       "        text-align: right;\n",
       "    }\n",
       "</style>\n",
       "<table border=\"1\" class=\"dataframe\">\n",
       "  <thead>\n",
       "    <tr style=\"text-align: right;\">\n",
       "      <th></th>\n",
       "      <th>Name</th>\n",
       "      <th>ID</th>\n",
       "      <th>City</th>\n",
       "    </tr>\n",
       "  </thead>\n",
       "  <tbody>\n",
       "    <tr>\n",
       "      <th>0</th>\n",
       "      <td>Mayank</td>\n",
       "      <td>101</td>\n",
       "      <td>Bengaluru</td>\n",
       "    </tr>\n",
       "    <tr>\n",
       "      <th>1</th>\n",
       "      <td>Rishabh</td>\n",
       "      <td>102</td>\n",
       "      <td>Nodia</td>\n",
       "    </tr>\n",
       "    <tr>\n",
       "      <th>2</th>\n",
       "      <td>Geetika</td>\n",
       "      <td>103</td>\n",
       "      <td>Ambala</td>\n",
       "    </tr>\n",
       "    <tr>\n",
       "      <th>3</th>\n",
       "      <td>Deepak</td>\n",
       "      <td>104</td>\n",
       "      <td>Chandigarh</td>\n",
       "    </tr>\n",
       "    <tr>\n",
       "      <th>4</th>\n",
       "      <td>Priya</td>\n",
       "      <td>105</td>\n",
       "      <td>Surat</td>\n",
       "    </tr>\n",
       "    <tr>\n",
       "      <th>5</th>\n",
       "      <td>Abha</td>\n",
       "      <td>106</td>\n",
       "      <td>Mohali</td>\n",
       "    </tr>\n",
       "  </tbody>\n",
       "</table>\n",
       "</div>"
      ],
      "text/plain": [
       "      Name   ID        City\n",
       "0   Mayank  101   Bengaluru\n",
       "1  Rishabh  102       Nodia\n",
       "2  Geetika  103      Ambala\n",
       "3   Deepak  104  Chandigarh\n",
       "4    Priya  105       Surat\n",
       "5     Abha  106      Mohali"
      ]
     },
     "execution_count": 126,
     "metadata": {},
     "output_type": "execute_result"
    }
   ],
   "source": [
    "df"
   ]
  },
  {
   "cell_type": "markdown",
   "id": "db84094a",
   "metadata": {},
   "source": [
    "#### Case-2 Using a list of list or tuple of a list etc"
   ]
  },
  {
   "cell_type": "code",
   "execution_count": 127,
   "id": "9e72f1e1",
   "metadata": {},
   "outputs": [],
   "source": [
    "lst = [['Mayank', 101, 'Bengaluru'], ['Rishabh', 102, 'Noida'],['Geetika', 103, 'Ambala'], ['Deepak', 104, 'Chandigarh']]"
   ]
  },
  {
   "cell_type": "code",
   "execution_count": 128,
   "id": "a45a9a57",
   "metadata": {},
   "outputs": [
    {
     "data": {
      "text/plain": [
       "[['Mayank', 101, 'Bengaluru'],\n",
       " ['Rishabh', 102, 'Noida'],\n",
       " ['Geetika', 103, 'Ambala'],\n",
       " ['Deepak', 104, 'Chandigarh']]"
      ]
     },
     "execution_count": 128,
     "metadata": {},
     "output_type": "execute_result"
    }
   ],
   "source": [
    "lst"
   ]
  },
  {
   "cell_type": "code",
   "execution_count": 129,
   "id": "9522def0",
   "metadata": {},
   "outputs": [
    {
     "data": {
      "text/html": [
       "<div>\n",
       "<style scoped>\n",
       "    .dataframe tbody tr th:only-of-type {\n",
       "        vertical-align: middle;\n",
       "    }\n",
       "\n",
       "    .dataframe tbody tr th {\n",
       "        vertical-align: top;\n",
       "    }\n",
       "\n",
       "    .dataframe thead th {\n",
       "        text-align: right;\n",
       "    }\n",
       "</style>\n",
       "<table border=\"1\" class=\"dataframe\">\n",
       "  <thead>\n",
       "    <tr style=\"text-align: right;\">\n",
       "      <th></th>\n",
       "      <th>Names</th>\n",
       "      <th>ID</th>\n",
       "      <th>City</th>\n",
       "    </tr>\n",
       "  </thead>\n",
       "  <tbody>\n",
       "    <tr>\n",
       "      <th>0</th>\n",
       "      <td>Mayank</td>\n",
       "      <td>101</td>\n",
       "      <td>Bengaluru</td>\n",
       "    </tr>\n",
       "    <tr>\n",
       "      <th>1</th>\n",
       "      <td>Rishabh</td>\n",
       "      <td>102</td>\n",
       "      <td>Noida</td>\n",
       "    </tr>\n",
       "    <tr>\n",
       "      <th>2</th>\n",
       "      <td>Geetika</td>\n",
       "      <td>103</td>\n",
       "      <td>Ambala</td>\n",
       "    </tr>\n",
       "    <tr>\n",
       "      <th>3</th>\n",
       "      <td>Deepak</td>\n",
       "      <td>104</td>\n",
       "      <td>Chandigarh</td>\n",
       "    </tr>\n",
       "  </tbody>\n",
       "</table>\n",
       "</div>"
      ],
      "text/plain": [
       "     Names   ID        City\n",
       "0   Mayank  101   Bengaluru\n",
       "1  Rishabh  102       Noida\n",
       "2  Geetika  103      Ambala\n",
       "3   Deepak  104  Chandigarh"
      ]
     },
     "execution_count": 129,
     "metadata": {},
     "output_type": "execute_result"
    }
   ],
   "source": [
    "lst1 = pd.DataFrame(lst, columns = [\"Names\", 'ID', 'City'])\n",
    "lst1"
   ]
  },
  {
   "cell_type": "markdown",
   "id": "0797d9e9",
   "metadata": {},
   "source": [
    "#### Case-3 Using a dictionary "
   ]
  },
  {
   "cell_type": "code",
   "execution_count": 130,
   "id": "17b92ea0",
   "metadata": {},
   "outputs": [],
   "source": [
    "emp = {'name':['Mayank', 'Rishabh', 'Geetika', 'Deepak', 'Priya', 'Abha'],\n",
    "        'ID':[101,102,103,104, 105, 106],\n",
    "        'City':['Bengaluru', 'Nodia', 'Ambala', 'Chandigarh', 'Surat', 'Mohali']}"
   ]
  },
  {
   "cell_type": "code",
   "execution_count": 131,
   "id": "bf9579c6",
   "metadata": {},
   "outputs": [
    {
     "data": {
      "text/plain": [
       "{'name': ['Mayank', 'Rishabh', 'Geetika', 'Deepak', 'Priya', 'Abha'],\n",
       " 'ID': [101, 102, 103, 104, 105, 106],\n",
       " 'City': ['Bengaluru', 'Nodia', 'Ambala', 'Chandigarh', 'Surat', 'Mohali']}"
      ]
     },
     "execution_count": 131,
     "metadata": {},
     "output_type": "execute_result"
    }
   ],
   "source": [
    "emp"
   ]
  },
  {
   "cell_type": "code",
   "execution_count": 132,
   "id": "a4712732",
   "metadata": {},
   "outputs": [
    {
     "data": {
      "text/html": [
       "<div>\n",
       "<style scoped>\n",
       "    .dataframe tbody tr th:only-of-type {\n",
       "        vertical-align: middle;\n",
       "    }\n",
       "\n",
       "    .dataframe tbody tr th {\n",
       "        vertical-align: top;\n",
       "    }\n",
       "\n",
       "    .dataframe thead th {\n",
       "        text-align: right;\n",
       "    }\n",
       "</style>\n",
       "<table border=\"1\" class=\"dataframe\">\n",
       "  <thead>\n",
       "    <tr style=\"text-align: right;\">\n",
       "      <th></th>\n",
       "      <th>name</th>\n",
       "      <th>ID</th>\n",
       "      <th>City</th>\n",
       "    </tr>\n",
       "  </thead>\n",
       "  <tbody>\n",
       "    <tr>\n",
       "      <th>0</th>\n",
       "      <td>Mayank</td>\n",
       "      <td>101</td>\n",
       "      <td>Bengaluru</td>\n",
       "    </tr>\n",
       "    <tr>\n",
       "      <th>1</th>\n",
       "      <td>Rishabh</td>\n",
       "      <td>102</td>\n",
       "      <td>Nodia</td>\n",
       "    </tr>\n",
       "    <tr>\n",
       "      <th>2</th>\n",
       "      <td>Geetika</td>\n",
       "      <td>103</td>\n",
       "      <td>Ambala</td>\n",
       "    </tr>\n",
       "    <tr>\n",
       "      <th>3</th>\n",
       "      <td>Deepak</td>\n",
       "      <td>104</td>\n",
       "      <td>Chandigarh</td>\n",
       "    </tr>\n",
       "    <tr>\n",
       "      <th>4</th>\n",
       "      <td>Priya</td>\n",
       "      <td>105</td>\n",
       "      <td>Surat</td>\n",
       "    </tr>\n",
       "    <tr>\n",
       "      <th>5</th>\n",
       "      <td>Abha</td>\n",
       "      <td>106</td>\n",
       "      <td>Mohali</td>\n",
       "    </tr>\n",
       "  </tbody>\n",
       "</table>\n",
       "</div>"
      ],
      "text/plain": [
       "      name   ID        City\n",
       "0   Mayank  101   Bengaluru\n",
       "1  Rishabh  102       Nodia\n",
       "2  Geetika  103      Ambala\n",
       "3   Deepak  104  Chandigarh\n",
       "4    Priya  105       Surat\n",
       "5     Abha  106      Mohali"
      ]
     },
     "execution_count": 132,
     "metadata": {},
     "output_type": "execute_result"
    }
   ],
   "source": [
    "lst2 = pd.DataFrame(emp)\n",
    "lst2"
   ]
  },
  {
   "cell_type": "code",
   "execution_count": 134,
   "id": "9b0e7c02",
   "metadata": {},
   "outputs": [],
   "source": [
    "lst2.name = 'Employee_info'"
   ]
  },
  {
   "cell_type": "code",
   "execution_count": 135,
   "id": "2b6e444c",
   "metadata": {},
   "outputs": [
    {
     "data": {
      "text/html": [
       "<div>\n",
       "<style scoped>\n",
       "    .dataframe tbody tr th:only-of-type {\n",
       "        vertical-align: middle;\n",
       "    }\n",
       "\n",
       "    .dataframe tbody tr th {\n",
       "        vertical-align: top;\n",
       "    }\n",
       "\n",
       "    .dataframe thead th {\n",
       "        text-align: right;\n",
       "    }\n",
       "</style>\n",
       "<table border=\"1\" class=\"dataframe\">\n",
       "  <thead>\n",
       "    <tr style=\"text-align: right;\">\n",
       "      <th></th>\n",
       "      <th>name</th>\n",
       "      <th>ID</th>\n",
       "      <th>City</th>\n",
       "    </tr>\n",
       "  </thead>\n",
       "  <tbody>\n",
       "    <tr>\n",
       "      <th>0</th>\n",
       "      <td>Employee_info</td>\n",
       "      <td>101</td>\n",
       "      <td>Bengaluru</td>\n",
       "    </tr>\n",
       "    <tr>\n",
       "      <th>1</th>\n",
       "      <td>Employee_info</td>\n",
       "      <td>102</td>\n",
       "      <td>Nodia</td>\n",
       "    </tr>\n",
       "    <tr>\n",
       "      <th>2</th>\n",
       "      <td>Employee_info</td>\n",
       "      <td>103</td>\n",
       "      <td>Ambala</td>\n",
       "    </tr>\n",
       "    <tr>\n",
       "      <th>3</th>\n",
       "      <td>Employee_info</td>\n",
       "      <td>104</td>\n",
       "      <td>Chandigarh</td>\n",
       "    </tr>\n",
       "    <tr>\n",
       "      <th>4</th>\n",
       "      <td>Employee_info</td>\n",
       "      <td>105</td>\n",
       "      <td>Surat</td>\n",
       "    </tr>\n",
       "    <tr>\n",
       "      <th>5</th>\n",
       "      <td>Employee_info</td>\n",
       "      <td>106</td>\n",
       "      <td>Mohali</td>\n",
       "    </tr>\n",
       "  </tbody>\n",
       "</table>\n",
       "</div>"
      ],
      "text/plain": [
       "            name   ID        City\n",
       "0  Employee_info  101   Bengaluru\n",
       "1  Employee_info  102       Nodia\n",
       "2  Employee_info  103      Ambala\n",
       "3  Employee_info  104  Chandigarh\n",
       "4  Employee_info  105       Surat\n",
       "5  Employee_info  106      Mohali"
      ]
     },
     "execution_count": 135,
     "metadata": {},
     "output_type": "execute_result"
    }
   ],
   "source": [
    "lst2"
   ]
  },
  {
   "cell_type": "code",
   "execution_count": 136,
   "id": "77405301",
   "metadata": {},
   "outputs": [
    {
     "data": {
      "text/html": [
       "<div>\n",
       "<style scoped>\n",
       "    .dataframe tbody tr th:only-of-type {\n",
       "        vertical-align: middle;\n",
       "    }\n",
       "\n",
       "    .dataframe tbody tr th {\n",
       "        vertical-align: top;\n",
       "    }\n",
       "\n",
       "    .dataframe thead th {\n",
       "        text-align: right;\n",
       "    }\n",
       "</style>\n",
       "<table border=\"1\" class=\"dataframe\">\n",
       "  <thead>\n",
       "    <tr style=\"text-align: right;\">\n",
       "      <th></th>\n",
       "      <th>name</th>\n",
       "      <th>ID</th>\n",
       "      <th>City</th>\n",
       "    </tr>\n",
       "  </thead>\n",
       "  <tbody>\n",
       "    <tr>\n",
       "      <th>0</th>\n",
       "      <td>Mayank</td>\n",
       "      <td>101</td>\n",
       "      <td>Bengaluru</td>\n",
       "    </tr>\n",
       "    <tr>\n",
       "      <th>1</th>\n",
       "      <td>Rishabh</td>\n",
       "      <td>102</td>\n",
       "      <td>Nodia</td>\n",
       "    </tr>\n",
       "    <tr>\n",
       "      <th>2</th>\n",
       "      <td>Geetika</td>\n",
       "      <td>103</td>\n",
       "      <td>Ambala</td>\n",
       "    </tr>\n",
       "    <tr>\n",
       "      <th>3</th>\n",
       "      <td>Deepak</td>\n",
       "      <td>104</td>\n",
       "      <td>Chandigarh</td>\n",
       "    </tr>\n",
       "    <tr>\n",
       "      <th>4</th>\n",
       "      <td>Priya</td>\n",
       "      <td>105</td>\n",
       "      <td>Surat</td>\n",
       "    </tr>\n",
       "    <tr>\n",
       "      <th>5</th>\n",
       "      <td>Abha</td>\n",
       "      <td>106</td>\n",
       "      <td>Mohali</td>\n",
       "    </tr>\n",
       "  </tbody>\n",
       "</table>\n",
       "</div>"
      ],
      "text/plain": [
       "      name   ID        City\n",
       "0   Mayank  101   Bengaluru\n",
       "1  Rishabh  102       Nodia\n",
       "2  Geetika  103      Ambala\n",
       "3   Deepak  104  Chandigarh\n",
       "4    Priya  105       Surat\n",
       "5     Abha  106      Mohali"
      ]
     },
     "execution_count": 136,
     "metadata": {},
     "output_type": "execute_result"
    }
   ],
   "source": [
    "emp = {'name':['Mayank', 'Rishabh', 'Geetika', 'Deepak', 'Priya', 'Abha'],\n",
    "        'ID':[101,102,103,104, 105, 106],\n",
    "        'City':['Bengaluru', 'Nodia', 'Ambala', 'Chandigarh', 'Surat', 'Mohali']}\n",
    "\n",
    "lst2 = pd.DataFrame(emp)\n",
    "lst2"
   ]
  },
  {
   "cell_type": "code",
   "execution_count": 137,
   "id": "9fb96e3c",
   "metadata": {},
   "outputs": [
    {
     "data": {
      "text/html": [
       "<div>\n",
       "<style scoped>\n",
       "    .dataframe tbody tr th:only-of-type {\n",
       "        vertical-align: middle;\n",
       "    }\n",
       "\n",
       "    .dataframe tbody tr th {\n",
       "        vertical-align: top;\n",
       "    }\n",
       "\n",
       "    .dataframe thead th {\n",
       "        text-align: right;\n",
       "    }\n",
       "</style>\n",
       "<table border=\"1\" class=\"dataframe\">\n",
       "  <thead>\n",
       "    <tr style=\"text-align: right;\">\n",
       "      <th></th>\n",
       "      <th>0</th>\n",
       "      <th>1</th>\n",
       "      <th>2</th>\n",
       "      <th>3</th>\n",
       "      <th>4</th>\n",
       "      <th>5</th>\n",
       "    </tr>\n",
       "  </thead>\n",
       "  <tbody>\n",
       "    <tr>\n",
       "      <th>name</th>\n",
       "      <td>Mayank</td>\n",
       "      <td>Rishabh</td>\n",
       "      <td>Geetika</td>\n",
       "      <td>Deepak</td>\n",
       "      <td>Priya</td>\n",
       "      <td>Abha</td>\n",
       "    </tr>\n",
       "    <tr>\n",
       "      <th>ID</th>\n",
       "      <td>101</td>\n",
       "      <td>102</td>\n",
       "      <td>103</td>\n",
       "      <td>104</td>\n",
       "      <td>105</td>\n",
       "      <td>106</td>\n",
       "    </tr>\n",
       "    <tr>\n",
       "      <th>City</th>\n",
       "      <td>Bengaluru</td>\n",
       "      <td>Nodia</td>\n",
       "      <td>Ambala</td>\n",
       "      <td>Chandigarh</td>\n",
       "      <td>Surat</td>\n",
       "      <td>Mohali</td>\n",
       "    </tr>\n",
       "  </tbody>\n",
       "</table>\n",
       "</div>"
      ],
      "text/plain": [
       "              0        1        2           3      4       5\n",
       "name     Mayank  Rishabh  Geetika      Deepak  Priya    Abha\n",
       "ID          101      102      103         104    105     106\n",
       "City  Bengaluru    Nodia   Ambala  Chandigarh  Surat  Mohali"
      ]
     },
     "execution_count": 137,
     "metadata": {},
     "output_type": "execute_result"
    }
   ],
   "source": [
    "lst2.T"
   ]
  },
  {
   "cell_type": "code",
   "execution_count": 138,
   "id": "d6afbd25",
   "metadata": {},
   "outputs": [
    {
     "data": {
      "text/plain": [
       "pandas.core.frame.DataFrame"
      ]
     },
     "execution_count": 138,
     "metadata": {},
     "output_type": "execute_result"
    }
   ],
   "source": [
    "type(lst2)"
   ]
  },
  {
   "cell_type": "code",
   "execution_count": 139,
   "id": "51d81949",
   "metadata": {},
   "outputs": [],
   "source": [
    "s = pd.Series(name)"
   ]
  },
  {
   "cell_type": "code",
   "execution_count": 140,
   "id": "621f089b",
   "metadata": {},
   "outputs": [
    {
     "data": {
      "text/plain": [
       "pandas.core.series.Series"
      ]
     },
     "execution_count": 140,
     "metadata": {},
     "output_type": "execute_result"
    }
   ],
   "source": [
    "type(s)"
   ]
  },
  {
   "cell_type": "markdown",
   "id": "0fc60ddd",
   "metadata": {},
   "source": [
    "### Attributes on a DataFrame "
   ]
  },
  {
   "cell_type": "code",
   "execution_count": 141,
   "id": "3dfa8e40",
   "metadata": {},
   "outputs": [
    {
     "data": {
      "text/html": [
       "<div>\n",
       "<style scoped>\n",
       "    .dataframe tbody tr th:only-of-type {\n",
       "        vertical-align: middle;\n",
       "    }\n",
       "\n",
       "    .dataframe tbody tr th {\n",
       "        vertical-align: top;\n",
       "    }\n",
       "\n",
       "    .dataframe thead th {\n",
       "        text-align: right;\n",
       "    }\n",
       "</style>\n",
       "<table border=\"1\" class=\"dataframe\">\n",
       "  <thead>\n",
       "    <tr style=\"text-align: right;\">\n",
       "      <th></th>\n",
       "      <th>name</th>\n",
       "      <th>ID</th>\n",
       "      <th>City</th>\n",
       "    </tr>\n",
       "  </thead>\n",
       "  <tbody>\n",
       "    <tr>\n",
       "      <th>0</th>\n",
       "      <td>Mayank</td>\n",
       "      <td>101</td>\n",
       "      <td>Bengaluru</td>\n",
       "    </tr>\n",
       "    <tr>\n",
       "      <th>1</th>\n",
       "      <td>Rishabh</td>\n",
       "      <td>102</td>\n",
       "      <td>Nodia</td>\n",
       "    </tr>\n",
       "    <tr>\n",
       "      <th>2</th>\n",
       "      <td>Geetika</td>\n",
       "      <td>103</td>\n",
       "      <td>Ambala</td>\n",
       "    </tr>\n",
       "    <tr>\n",
       "      <th>3</th>\n",
       "      <td>Deepak</td>\n",
       "      <td>104</td>\n",
       "      <td>Chandigarh</td>\n",
       "    </tr>\n",
       "    <tr>\n",
       "      <th>4</th>\n",
       "      <td>Priya</td>\n",
       "      <td>105</td>\n",
       "      <td>Surat</td>\n",
       "    </tr>\n",
       "    <tr>\n",
       "      <th>5</th>\n",
       "      <td>Abha</td>\n",
       "      <td>106</td>\n",
       "      <td>Mohali</td>\n",
       "    </tr>\n",
       "  </tbody>\n",
       "</table>\n",
       "</div>"
      ],
      "text/plain": [
       "      name   ID        City\n",
       "0   Mayank  101   Bengaluru\n",
       "1  Rishabh  102       Nodia\n",
       "2  Geetika  103      Ambala\n",
       "3   Deepak  104  Chandigarh\n",
       "4    Priya  105       Surat\n",
       "5     Abha  106      Mohali"
      ]
     },
     "execution_count": 141,
     "metadata": {},
     "output_type": "execute_result"
    }
   ],
   "source": [
    "lst2"
   ]
  },
  {
   "cell_type": "markdown",
   "id": "586a6eda",
   "metadata": {},
   "source": [
    "#### shape"
   ]
  },
  {
   "cell_type": "code",
   "execution_count": 143,
   "id": "6fb2f9cd",
   "metadata": {},
   "outputs": [
    {
     "data": {
      "text/plain": [
       "(6, 3)"
      ]
     },
     "execution_count": 143,
     "metadata": {},
     "output_type": "execute_result"
    }
   ],
   "source": [
    "lst2.shape"
   ]
  },
  {
   "cell_type": "markdown",
   "id": "3204541c",
   "metadata": {},
   "source": [
    "#### size"
   ]
  },
  {
   "cell_type": "code",
   "execution_count": 144,
   "id": "dbfceee2",
   "metadata": {},
   "outputs": [
    {
     "data": {
      "text/plain": [
       "18"
      ]
     },
     "execution_count": 144,
     "metadata": {},
     "output_type": "execute_result"
    }
   ],
   "source": [
    "lst2.size"
   ]
  },
  {
   "cell_type": "markdown",
   "id": "5267cc20",
   "metadata": {},
   "source": [
    "#### dtype\n"
   ]
  },
  {
   "cell_type": "code",
   "execution_count": 146,
   "id": "6abe8705",
   "metadata": {},
   "outputs": [
    {
     "data": {
      "text/plain": [
       "name    object\n",
       "ID       int64\n",
       "City    object\n",
       "dtype: object"
      ]
     },
     "execution_count": 146,
     "metadata": {},
     "output_type": "execute_result"
    }
   ],
   "source": [
    "lst2.dtypes"
   ]
  },
  {
   "cell_type": "markdown",
   "id": "c1b02b16",
   "metadata": {},
   "source": [
    "#### ndim"
   ]
  },
  {
   "cell_type": "code",
   "execution_count": 147,
   "id": "82c0a043",
   "metadata": {},
   "outputs": [
    {
     "data": {
      "text/plain": [
       "2"
      ]
     },
     "execution_count": 147,
     "metadata": {},
     "output_type": "execute_result"
    }
   ],
   "source": [
    "lst2.ndim"
   ]
  },
  {
   "cell_type": "markdown",
   "id": "9be499cc",
   "metadata": {},
   "source": [
    "#### index"
   ]
  },
  {
   "cell_type": "code",
   "execution_count": 149,
   "id": "a4719b97",
   "metadata": {},
   "outputs": [
    {
     "data": {
      "text/plain": [
       "RangeIndex(start=0, stop=6, step=1)"
      ]
     },
     "execution_count": 149,
     "metadata": {},
     "output_type": "execute_result"
    }
   ],
   "source": [
    "lst2.index"
   ]
  },
  {
   "cell_type": "markdown",
   "id": "d7848e49",
   "metadata": {},
   "source": [
    "#### values "
   ]
  },
  {
   "cell_type": "code",
   "execution_count": 151,
   "id": "caabbdaa",
   "metadata": {},
   "outputs": [
    {
     "data": {
      "text/plain": [
       "array([['Mayank', 101, 'Bengaluru'],\n",
       "       ['Rishabh', 102, 'Nodia'],\n",
       "       ['Geetika', 103, 'Ambala'],\n",
       "       ['Deepak', 104, 'Chandigarh'],\n",
       "       ['Priya', 105, 'Surat'],\n",
       "       ['Abha', 106, 'Mohali']], dtype=object)"
      ]
     },
     "execution_count": 151,
     "metadata": {},
     "output_type": "execute_result"
    }
   ],
   "source": [
    "lst2.values"
   ]
  },
  {
   "cell_type": "markdown",
   "id": "87d55006",
   "metadata": {},
   "source": [
    "#### columns"
   ]
  },
  {
   "cell_type": "code",
   "execution_count": 152,
   "id": "2bf2a01b",
   "metadata": {},
   "outputs": [
    {
     "data": {
      "text/plain": [
       "Index(['name', 'ID', 'City'], dtype='object')"
      ]
     },
     "execution_count": 152,
     "metadata": {},
     "output_type": "execute_result"
    }
   ],
   "source": [
    "lst2.columns"
   ]
  },
  {
   "cell_type": "markdown",
   "id": "37241f3a",
   "metadata": {},
   "source": [
    "#### Indexing and Slicing on the DataFrame "
   ]
  },
  {
   "cell_type": "markdown",
   "id": "55403d6b",
   "metadata": {},
   "source": [
    "#### Indexing\n",
    "\n",
    "- Implicit Indexing (Pandas Defined) - iloc\n",
    "- Explicit Indexing (user defined) - loc"
   ]
  },
  {
   "cell_type": "code",
   "execution_count": 154,
   "id": "0d36fe96",
   "metadata": {},
   "outputs": [
    {
     "data": {
      "text/html": [
       "<div>\n",
       "<style scoped>\n",
       "    .dataframe tbody tr th:only-of-type {\n",
       "        vertical-align: middle;\n",
       "    }\n",
       "\n",
       "    .dataframe tbody tr th {\n",
       "        vertical-align: top;\n",
       "    }\n",
       "\n",
       "    .dataframe thead th {\n",
       "        text-align: right;\n",
       "    }\n",
       "</style>\n",
       "<table border=\"1\" class=\"dataframe\">\n",
       "  <thead>\n",
       "    <tr style=\"text-align: right;\">\n",
       "      <th></th>\n",
       "      <th>name</th>\n",
       "      <th>ID</th>\n",
       "      <th>City</th>\n",
       "    </tr>\n",
       "  </thead>\n",
       "  <tbody>\n",
       "    <tr>\n",
       "      <th>0</th>\n",
       "      <td>Mayank</td>\n",
       "      <td>101</td>\n",
       "      <td>Bengaluru</td>\n",
       "    </tr>\n",
       "    <tr>\n",
       "      <th>1</th>\n",
       "      <td>Rishabh</td>\n",
       "      <td>102</td>\n",
       "      <td>Nodia</td>\n",
       "    </tr>\n",
       "    <tr>\n",
       "      <th>2</th>\n",
       "      <td>Geetika</td>\n",
       "      <td>103</td>\n",
       "      <td>Ambala</td>\n",
       "    </tr>\n",
       "    <tr>\n",
       "      <th>3</th>\n",
       "      <td>Deepak</td>\n",
       "      <td>104</td>\n",
       "      <td>Chandigarh</td>\n",
       "    </tr>\n",
       "    <tr>\n",
       "      <th>4</th>\n",
       "      <td>Priya</td>\n",
       "      <td>105</td>\n",
       "      <td>Surat</td>\n",
       "    </tr>\n",
       "    <tr>\n",
       "      <th>5</th>\n",
       "      <td>Abha</td>\n",
       "      <td>106</td>\n",
       "      <td>Mohali</td>\n",
       "    </tr>\n",
       "  </tbody>\n",
       "</table>\n",
       "</div>"
      ],
      "text/plain": [
       "      name   ID        City\n",
       "0   Mayank  101   Bengaluru\n",
       "1  Rishabh  102       Nodia\n",
       "2  Geetika  103      Ambala\n",
       "3   Deepak  104  Chandigarh\n",
       "4    Priya  105       Surat\n",
       "5     Abha  106      Mohali"
      ]
     },
     "execution_count": 154,
     "metadata": {},
     "output_type": "execute_result"
    }
   ],
   "source": [
    "lst2"
   ]
  },
  {
   "cell_type": "code",
   "execution_count": 155,
   "id": "815bc083",
   "metadata": {},
   "outputs": [
    {
     "data": {
      "text/plain": [
       "name       Mayank\n",
       "ID            101\n",
       "City    Bengaluru\n",
       "Name: 0, dtype: object"
      ]
     },
     "execution_count": 155,
     "metadata": {},
     "output_type": "execute_result"
    }
   ],
   "source": [
    "lst2.iloc[0]"
   ]
  },
  {
   "cell_type": "code",
   "execution_count": 156,
   "id": "601d9d0d",
   "metadata": {},
   "outputs": [
    {
     "data": {
      "text/plain": [
       "name       Mayank\n",
       "ID            101\n",
       "City    Bengaluru\n",
       "Name: 0, dtype: object"
      ]
     },
     "execution_count": 156,
     "metadata": {},
     "output_type": "execute_result"
    }
   ],
   "source": [
    "lst2.loc[0]"
   ]
  },
  {
   "cell_type": "code",
   "execution_count": 157,
   "id": "2df8a0da",
   "metadata": {},
   "outputs": [],
   "source": [
    "lst2.index = lst2.ID"
   ]
  },
  {
   "cell_type": "code",
   "execution_count": 158,
   "id": "3aa84226",
   "metadata": {},
   "outputs": [
    {
     "data": {
      "text/html": [
       "<div>\n",
       "<style scoped>\n",
       "    .dataframe tbody tr th:only-of-type {\n",
       "        vertical-align: middle;\n",
       "    }\n",
       "\n",
       "    .dataframe tbody tr th {\n",
       "        vertical-align: top;\n",
       "    }\n",
       "\n",
       "    .dataframe thead th {\n",
       "        text-align: right;\n",
       "    }\n",
       "</style>\n",
       "<table border=\"1\" class=\"dataframe\">\n",
       "  <thead>\n",
       "    <tr style=\"text-align: right;\">\n",
       "      <th></th>\n",
       "      <th>name</th>\n",
       "      <th>ID</th>\n",
       "      <th>City</th>\n",
       "    </tr>\n",
       "    <tr>\n",
       "      <th>ID</th>\n",
       "      <th></th>\n",
       "      <th></th>\n",
       "      <th></th>\n",
       "    </tr>\n",
       "  </thead>\n",
       "  <tbody>\n",
       "    <tr>\n",
       "      <th>101</th>\n",
       "      <td>Mayank</td>\n",
       "      <td>101</td>\n",
       "      <td>Bengaluru</td>\n",
       "    </tr>\n",
       "    <tr>\n",
       "      <th>102</th>\n",
       "      <td>Rishabh</td>\n",
       "      <td>102</td>\n",
       "      <td>Nodia</td>\n",
       "    </tr>\n",
       "    <tr>\n",
       "      <th>103</th>\n",
       "      <td>Geetika</td>\n",
       "      <td>103</td>\n",
       "      <td>Ambala</td>\n",
       "    </tr>\n",
       "    <tr>\n",
       "      <th>104</th>\n",
       "      <td>Deepak</td>\n",
       "      <td>104</td>\n",
       "      <td>Chandigarh</td>\n",
       "    </tr>\n",
       "    <tr>\n",
       "      <th>105</th>\n",
       "      <td>Priya</td>\n",
       "      <td>105</td>\n",
       "      <td>Surat</td>\n",
       "    </tr>\n",
       "    <tr>\n",
       "      <th>106</th>\n",
       "      <td>Abha</td>\n",
       "      <td>106</td>\n",
       "      <td>Mohali</td>\n",
       "    </tr>\n",
       "  </tbody>\n",
       "</table>\n",
       "</div>"
      ],
      "text/plain": [
       "        name   ID        City\n",
       "ID                           \n",
       "101   Mayank  101   Bengaluru\n",
       "102  Rishabh  102       Nodia\n",
       "103  Geetika  103      Ambala\n",
       "104   Deepak  104  Chandigarh\n",
       "105    Priya  105       Surat\n",
       "106     Abha  106      Mohali"
      ]
     },
     "execution_count": 158,
     "metadata": {},
     "output_type": "execute_result"
    }
   ],
   "source": [
    "lst2"
   ]
  },
  {
   "cell_type": "code",
   "execution_count": 159,
   "id": "b0f789e7",
   "metadata": {},
   "outputs": [
    {
     "data": {
      "text/plain": [
       "name       Mayank\n",
       "ID            101\n",
       "City    Bengaluru\n",
       "Name: 101, dtype: object"
      ]
     },
     "execution_count": 159,
     "metadata": {},
     "output_type": "execute_result"
    }
   ],
   "source": [
    "lst2.iloc[0]"
   ]
  },
  {
   "cell_type": "code",
   "execution_count": 160,
   "id": "97cb4539",
   "metadata": {},
   "outputs": [
    {
     "ename": "KeyError",
     "evalue": "0",
     "output_type": "error",
     "traceback": [
      "\u001b[1;31m---------------------------------------------------------------------------\u001b[0m",
      "\u001b[1;31mKeyError\u001b[0m                                  Traceback (most recent call last)",
      "File \u001b[1;32m~\\anaconda3\\Lib\\site-packages\\pandas\\core\\indexes\\base.py:3653\u001b[0m, in \u001b[0;36mIndex.get_loc\u001b[1;34m(self, key)\u001b[0m\n\u001b[0;32m   3652\u001b[0m \u001b[38;5;28;01mtry\u001b[39;00m:\n\u001b[1;32m-> 3653\u001b[0m     \u001b[38;5;28;01mreturn\u001b[39;00m \u001b[38;5;28mself\u001b[39m\u001b[38;5;241m.\u001b[39m_engine\u001b[38;5;241m.\u001b[39mget_loc(casted_key)\n\u001b[0;32m   3654\u001b[0m \u001b[38;5;28;01mexcept\u001b[39;00m \u001b[38;5;167;01mKeyError\u001b[39;00m \u001b[38;5;28;01mas\u001b[39;00m err:\n",
      "File \u001b[1;32m~\\anaconda3\\Lib\\site-packages\\pandas\\_libs\\index.pyx:147\u001b[0m, in \u001b[0;36mpandas._libs.index.IndexEngine.get_loc\u001b[1;34m()\u001b[0m\n",
      "File \u001b[1;32m~\\anaconda3\\Lib\\site-packages\\pandas\\_libs\\index.pyx:176\u001b[0m, in \u001b[0;36mpandas._libs.index.IndexEngine.get_loc\u001b[1;34m()\u001b[0m\n",
      "File \u001b[1;32mpandas\\_libs\\hashtable_class_helper.pxi:2606\u001b[0m, in \u001b[0;36mpandas._libs.hashtable.Int64HashTable.get_item\u001b[1;34m()\u001b[0m\n",
      "File \u001b[1;32mpandas\\_libs\\hashtable_class_helper.pxi:2630\u001b[0m, in \u001b[0;36mpandas._libs.hashtable.Int64HashTable.get_item\u001b[1;34m()\u001b[0m\n",
      "\u001b[1;31mKeyError\u001b[0m: 0",
      "\nThe above exception was the direct cause of the following exception:\n",
      "\u001b[1;31mKeyError\u001b[0m                                  Traceback (most recent call last)",
      "Cell \u001b[1;32mIn[160], line 1\u001b[0m\n\u001b[1;32m----> 1\u001b[0m lst2\u001b[38;5;241m.\u001b[39mloc[\u001b[38;5;241m0\u001b[39m]\n",
      "File \u001b[1;32m~\\anaconda3\\Lib\\site-packages\\pandas\\core\\indexing.py:1103\u001b[0m, in \u001b[0;36m_LocationIndexer.__getitem__\u001b[1;34m(self, key)\u001b[0m\n\u001b[0;32m   1100\u001b[0m axis \u001b[38;5;241m=\u001b[39m \u001b[38;5;28mself\u001b[39m\u001b[38;5;241m.\u001b[39maxis \u001b[38;5;129;01mor\u001b[39;00m \u001b[38;5;241m0\u001b[39m\n\u001b[0;32m   1102\u001b[0m maybe_callable \u001b[38;5;241m=\u001b[39m com\u001b[38;5;241m.\u001b[39mapply_if_callable(key, \u001b[38;5;28mself\u001b[39m\u001b[38;5;241m.\u001b[39mobj)\n\u001b[1;32m-> 1103\u001b[0m \u001b[38;5;28;01mreturn\u001b[39;00m \u001b[38;5;28mself\u001b[39m\u001b[38;5;241m.\u001b[39m_getitem_axis(maybe_callable, axis\u001b[38;5;241m=\u001b[39maxis)\n",
      "File \u001b[1;32m~\\anaconda3\\Lib\\site-packages\\pandas\\core\\indexing.py:1343\u001b[0m, in \u001b[0;36m_LocIndexer._getitem_axis\u001b[1;34m(self, key, axis)\u001b[0m\n\u001b[0;32m   1341\u001b[0m \u001b[38;5;66;03m# fall thru to straight lookup\u001b[39;00m\n\u001b[0;32m   1342\u001b[0m \u001b[38;5;28mself\u001b[39m\u001b[38;5;241m.\u001b[39m_validate_key(key, axis)\n\u001b[1;32m-> 1343\u001b[0m \u001b[38;5;28;01mreturn\u001b[39;00m \u001b[38;5;28mself\u001b[39m\u001b[38;5;241m.\u001b[39m_get_label(key, axis\u001b[38;5;241m=\u001b[39maxis)\n",
      "File \u001b[1;32m~\\anaconda3\\Lib\\site-packages\\pandas\\core\\indexing.py:1293\u001b[0m, in \u001b[0;36m_LocIndexer._get_label\u001b[1;34m(self, label, axis)\u001b[0m\n\u001b[0;32m   1291\u001b[0m \u001b[38;5;28;01mdef\u001b[39;00m \u001b[38;5;21m_get_label\u001b[39m(\u001b[38;5;28mself\u001b[39m, label, axis: AxisInt):\n\u001b[0;32m   1292\u001b[0m     \u001b[38;5;66;03m# GH#5567 this will fail if the label is not present in the axis.\u001b[39;00m\n\u001b[1;32m-> 1293\u001b[0m     \u001b[38;5;28;01mreturn\u001b[39;00m \u001b[38;5;28mself\u001b[39m\u001b[38;5;241m.\u001b[39mobj\u001b[38;5;241m.\u001b[39mxs(label, axis\u001b[38;5;241m=\u001b[39maxis)\n",
      "File \u001b[1;32m~\\anaconda3\\Lib\\site-packages\\pandas\\core\\generic.py:4095\u001b[0m, in \u001b[0;36mNDFrame.xs\u001b[1;34m(self, key, axis, level, drop_level)\u001b[0m\n\u001b[0;32m   4093\u001b[0m             new_index \u001b[38;5;241m=\u001b[39m index[loc]\n\u001b[0;32m   4094\u001b[0m \u001b[38;5;28;01melse\u001b[39;00m:\n\u001b[1;32m-> 4095\u001b[0m     loc \u001b[38;5;241m=\u001b[39m index\u001b[38;5;241m.\u001b[39mget_loc(key)\n\u001b[0;32m   4097\u001b[0m     \u001b[38;5;28;01mif\u001b[39;00m \u001b[38;5;28misinstance\u001b[39m(loc, np\u001b[38;5;241m.\u001b[39mndarray):\n\u001b[0;32m   4098\u001b[0m         \u001b[38;5;28;01mif\u001b[39;00m loc\u001b[38;5;241m.\u001b[39mdtype \u001b[38;5;241m==\u001b[39m np\u001b[38;5;241m.\u001b[39mbool_:\n",
      "File \u001b[1;32m~\\anaconda3\\Lib\\site-packages\\pandas\\core\\indexes\\base.py:3655\u001b[0m, in \u001b[0;36mIndex.get_loc\u001b[1;34m(self, key)\u001b[0m\n\u001b[0;32m   3653\u001b[0m     \u001b[38;5;28;01mreturn\u001b[39;00m \u001b[38;5;28mself\u001b[39m\u001b[38;5;241m.\u001b[39m_engine\u001b[38;5;241m.\u001b[39mget_loc(casted_key)\n\u001b[0;32m   3654\u001b[0m \u001b[38;5;28;01mexcept\u001b[39;00m \u001b[38;5;167;01mKeyError\u001b[39;00m \u001b[38;5;28;01mas\u001b[39;00m err:\n\u001b[1;32m-> 3655\u001b[0m     \u001b[38;5;28;01mraise\u001b[39;00m \u001b[38;5;167;01mKeyError\u001b[39;00m(key) \u001b[38;5;28;01mfrom\u001b[39;00m \u001b[38;5;21;01merr\u001b[39;00m\n\u001b[0;32m   3656\u001b[0m \u001b[38;5;28;01mexcept\u001b[39;00m \u001b[38;5;167;01mTypeError\u001b[39;00m:\n\u001b[0;32m   3657\u001b[0m     \u001b[38;5;66;03m# If we have a listlike key, _check_indexing_error will raise\u001b[39;00m\n\u001b[0;32m   3658\u001b[0m     \u001b[38;5;66;03m#  InvalidIndexError. Otherwise we fall through and re-raise\u001b[39;00m\n\u001b[0;32m   3659\u001b[0m     \u001b[38;5;66;03m#  the TypeError.\u001b[39;00m\n\u001b[0;32m   3660\u001b[0m     \u001b[38;5;28mself\u001b[39m\u001b[38;5;241m.\u001b[39m_check_indexing_error(key)\n",
      "\u001b[1;31mKeyError\u001b[0m: 0"
     ]
    }
   ],
   "source": [
    "lst2.loc[0]"
   ]
  },
  {
   "cell_type": "code",
   "execution_count": 162,
   "id": "c9f90eaf",
   "metadata": {},
   "outputs": [
    {
     "data": {
      "text/html": [
       "<div>\n",
       "<style scoped>\n",
       "    .dataframe tbody tr th:only-of-type {\n",
       "        vertical-align: middle;\n",
       "    }\n",
       "\n",
       "    .dataframe tbody tr th {\n",
       "        vertical-align: top;\n",
       "    }\n",
       "\n",
       "    .dataframe thead th {\n",
       "        text-align: right;\n",
       "    }\n",
       "</style>\n",
       "<table border=\"1\" class=\"dataframe\">\n",
       "  <thead>\n",
       "    <tr style=\"text-align: right;\">\n",
       "      <th></th>\n",
       "      <th>name</th>\n",
       "      <th>ID</th>\n",
       "      <th>City</th>\n",
       "    </tr>\n",
       "    <tr>\n",
       "      <th>ID</th>\n",
       "      <th></th>\n",
       "      <th></th>\n",
       "      <th></th>\n",
       "    </tr>\n",
       "  </thead>\n",
       "  <tbody>\n",
       "    <tr>\n",
       "      <th>101</th>\n",
       "      <td>Mayank</td>\n",
       "      <td>101</td>\n",
       "      <td>Bengaluru</td>\n",
       "    </tr>\n",
       "    <tr>\n",
       "      <th>102</th>\n",
       "      <td>Rishabh</td>\n",
       "      <td>102</td>\n",
       "      <td>Nodia</td>\n",
       "    </tr>\n",
       "    <tr>\n",
       "      <th>103</th>\n",
       "      <td>Geetika</td>\n",
       "      <td>103</td>\n",
       "      <td>Ambala</td>\n",
       "    </tr>\n",
       "    <tr>\n",
       "      <th>104</th>\n",
       "      <td>Deepak</td>\n",
       "      <td>104</td>\n",
       "      <td>Chandigarh</td>\n",
       "    </tr>\n",
       "    <tr>\n",
       "      <th>105</th>\n",
       "      <td>Priya</td>\n",
       "      <td>105</td>\n",
       "      <td>Surat</td>\n",
       "    </tr>\n",
       "    <tr>\n",
       "      <th>106</th>\n",
       "      <td>Abha</td>\n",
       "      <td>106</td>\n",
       "      <td>Mohali</td>\n",
       "    </tr>\n",
       "  </tbody>\n",
       "</table>\n",
       "</div>"
      ],
      "text/plain": [
       "        name   ID        City\n",
       "ID                           \n",
       "101   Mayank  101   Bengaluru\n",
       "102  Rishabh  102       Nodia\n",
       "103  Geetika  103      Ambala\n",
       "104   Deepak  104  Chandigarh\n",
       "105    Priya  105       Surat\n",
       "106     Abha  106      Mohali"
      ]
     },
     "execution_count": 162,
     "metadata": {},
     "output_type": "execute_result"
    }
   ],
   "source": [
    "lst2"
   ]
  },
  {
   "cell_type": "code",
   "execution_count": 161,
   "id": "4fe424aa",
   "metadata": {
    "scrolled": false
   },
   "outputs": [
    {
     "data": {
      "text/plain": [
       "name       Mayank\n",
       "ID            101\n",
       "City    Bengaluru\n",
       "Name: 101, dtype: object"
      ]
     },
     "execution_count": 161,
     "metadata": {},
     "output_type": "execute_result"
    }
   ],
   "source": [
    "lst2.loc[101]"
   ]
  },
  {
   "cell_type": "code",
   "execution_count": 163,
   "id": "7482536c",
   "metadata": {},
   "outputs": [
    {
     "data": {
      "text/plain": [
       "name      Abha\n",
       "ID         106\n",
       "City    Mohali\n",
       "Name: 106, dtype: object"
      ]
     },
     "execution_count": 163,
     "metadata": {},
     "output_type": "execute_result"
    }
   ],
   "source": [
    "lst2.loc[106]"
   ]
  },
  {
   "cell_type": "code",
   "execution_count": 164,
   "id": "59ac0b48",
   "metadata": {},
   "outputs": [
    {
     "data": {
      "text/plain": [
       "name      Abha\n",
       "ID         106\n",
       "City    Mohali\n",
       "Name: 106, dtype: object"
      ]
     },
     "execution_count": 164,
     "metadata": {},
     "output_type": "execute_result"
    }
   ],
   "source": [
    "lst2.iloc[5]"
   ]
  },
  {
   "cell_type": "code",
   "execution_count": 166,
   "id": "6dd70b47",
   "metadata": {},
   "outputs": [
    {
     "data": {
      "text/plain": [
       "name      Abha\n",
       "ID         106\n",
       "City    Mohali\n",
       "Name: 106, dtype: object"
      ]
     },
     "execution_count": 166,
     "metadata": {},
     "output_type": "execute_result"
    }
   ],
   "source": [
    "lst2.iloc[len(lst2)-1]\n"
   ]
  },
  {
   "cell_type": "markdown",
   "id": "2e4ab5c3",
   "metadata": {},
   "source": [
    "### Slicing"
   ]
  },
  {
   "cell_type": "code",
   "execution_count": 167,
   "id": "c4834e5d",
   "metadata": {},
   "outputs": [
    {
     "data": {
      "text/html": [
       "<div>\n",
       "<style scoped>\n",
       "    .dataframe tbody tr th:only-of-type {\n",
       "        vertical-align: middle;\n",
       "    }\n",
       "\n",
       "    .dataframe tbody tr th {\n",
       "        vertical-align: top;\n",
       "    }\n",
       "\n",
       "    .dataframe thead th {\n",
       "        text-align: right;\n",
       "    }\n",
       "</style>\n",
       "<table border=\"1\" class=\"dataframe\">\n",
       "  <thead>\n",
       "    <tr style=\"text-align: right;\">\n",
       "      <th></th>\n",
       "      <th>name</th>\n",
       "      <th>ID</th>\n",
       "      <th>City</th>\n",
       "    </tr>\n",
       "    <tr>\n",
       "      <th>ID</th>\n",
       "      <th></th>\n",
       "      <th></th>\n",
       "      <th></th>\n",
       "    </tr>\n",
       "  </thead>\n",
       "  <tbody>\n",
       "    <tr>\n",
       "      <th>101</th>\n",
       "      <td>Mayank</td>\n",
       "      <td>101</td>\n",
       "      <td>Bengaluru</td>\n",
       "    </tr>\n",
       "    <tr>\n",
       "      <th>102</th>\n",
       "      <td>Rishabh</td>\n",
       "      <td>102</td>\n",
       "      <td>Nodia</td>\n",
       "    </tr>\n",
       "    <tr>\n",
       "      <th>103</th>\n",
       "      <td>Geetika</td>\n",
       "      <td>103</td>\n",
       "      <td>Ambala</td>\n",
       "    </tr>\n",
       "    <tr>\n",
       "      <th>104</th>\n",
       "      <td>Deepak</td>\n",
       "      <td>104</td>\n",
       "      <td>Chandigarh</td>\n",
       "    </tr>\n",
       "    <tr>\n",
       "      <th>105</th>\n",
       "      <td>Priya</td>\n",
       "      <td>105</td>\n",
       "      <td>Surat</td>\n",
       "    </tr>\n",
       "    <tr>\n",
       "      <th>106</th>\n",
       "      <td>Abha</td>\n",
       "      <td>106</td>\n",
       "      <td>Mohali</td>\n",
       "    </tr>\n",
       "  </tbody>\n",
       "</table>\n",
       "</div>"
      ],
      "text/plain": [
       "        name   ID        City\n",
       "ID                           \n",
       "101   Mayank  101   Bengaluru\n",
       "102  Rishabh  102       Nodia\n",
       "103  Geetika  103      Ambala\n",
       "104   Deepak  104  Chandigarh\n",
       "105    Priya  105       Surat\n",
       "106     Abha  106      Mohali"
      ]
     },
     "execution_count": 167,
     "metadata": {},
     "output_type": "execute_result"
    }
   ],
   "source": [
    "lst2"
   ]
  },
  {
   "cell_type": "code",
   "execution_count": 168,
   "id": "154c6b47",
   "metadata": {},
   "outputs": [
    {
     "data": {
      "text/html": [
       "<div>\n",
       "<style scoped>\n",
       "    .dataframe tbody tr th:only-of-type {\n",
       "        vertical-align: middle;\n",
       "    }\n",
       "\n",
       "    .dataframe tbody tr th {\n",
       "        vertical-align: top;\n",
       "    }\n",
       "\n",
       "    .dataframe thead th {\n",
       "        text-align: right;\n",
       "    }\n",
       "</style>\n",
       "<table border=\"1\" class=\"dataframe\">\n",
       "  <thead>\n",
       "    <tr style=\"text-align: right;\">\n",
       "      <th></th>\n",
       "      <th>name</th>\n",
       "      <th>ID</th>\n",
       "      <th>City</th>\n",
       "    </tr>\n",
       "    <tr>\n",
       "      <th>ID</th>\n",
       "      <th></th>\n",
       "      <th></th>\n",
       "      <th></th>\n",
       "    </tr>\n",
       "  </thead>\n",
       "  <tbody>\n",
       "    <tr>\n",
       "      <th>101</th>\n",
       "      <td>Mayank</td>\n",
       "      <td>101</td>\n",
       "      <td>Bengaluru</td>\n",
       "    </tr>\n",
       "    <tr>\n",
       "      <th>102</th>\n",
       "      <td>Rishabh</td>\n",
       "      <td>102</td>\n",
       "      <td>Nodia</td>\n",
       "    </tr>\n",
       "  </tbody>\n",
       "</table>\n",
       "</div>"
      ],
      "text/plain": [
       "        name   ID       City\n",
       "ID                          \n",
       "101   Mayank  101  Bengaluru\n",
       "102  Rishabh  102      Nodia"
      ]
     },
     "execution_count": 168,
     "metadata": {},
     "output_type": "execute_result"
    }
   ],
   "source": [
    "lst2.iloc[0:2]"
   ]
  },
  {
   "cell_type": "code",
   "execution_count": 169,
   "id": "d5037211",
   "metadata": {},
   "outputs": [
    {
     "data": {
      "text/html": [
       "<div>\n",
       "<style scoped>\n",
       "    .dataframe tbody tr th:only-of-type {\n",
       "        vertical-align: middle;\n",
       "    }\n",
       "\n",
       "    .dataframe tbody tr th {\n",
       "        vertical-align: top;\n",
       "    }\n",
       "\n",
       "    .dataframe thead th {\n",
       "        text-align: right;\n",
       "    }\n",
       "</style>\n",
       "<table border=\"1\" class=\"dataframe\">\n",
       "  <thead>\n",
       "    <tr style=\"text-align: right;\">\n",
       "      <th></th>\n",
       "      <th>name</th>\n",
       "      <th>ID</th>\n",
       "      <th>City</th>\n",
       "    </tr>\n",
       "    <tr>\n",
       "      <th>ID</th>\n",
       "      <th></th>\n",
       "      <th></th>\n",
       "      <th></th>\n",
       "    </tr>\n",
       "  </thead>\n",
       "  <tbody>\n",
       "    <tr>\n",
       "      <th>101</th>\n",
       "      <td>Mayank</td>\n",
       "      <td>101</td>\n",
       "      <td>Bengaluru</td>\n",
       "    </tr>\n",
       "    <tr>\n",
       "      <th>102</th>\n",
       "      <td>Rishabh</td>\n",
       "      <td>102</td>\n",
       "      <td>Nodia</td>\n",
       "    </tr>\n",
       "  </tbody>\n",
       "</table>\n",
       "</div>"
      ],
      "text/plain": [
       "        name   ID       City\n",
       "ID                          \n",
       "101   Mayank  101  Bengaluru\n",
       "102  Rishabh  102      Nodia"
      ]
     },
     "execution_count": 169,
     "metadata": {},
     "output_type": "execute_result"
    }
   ],
   "source": [
    "lst2.loc[101:102]"
   ]
  },
  {
   "cell_type": "code",
   "execution_count": 170,
   "id": "f988d036",
   "metadata": {},
   "outputs": [
    {
     "data": {
      "text/html": [
       "<div>\n",
       "<style scoped>\n",
       "    .dataframe tbody tr th:only-of-type {\n",
       "        vertical-align: middle;\n",
       "    }\n",
       "\n",
       "    .dataframe tbody tr th {\n",
       "        vertical-align: top;\n",
       "    }\n",
       "\n",
       "    .dataframe thead th {\n",
       "        text-align: right;\n",
       "    }\n",
       "</style>\n",
       "<table border=\"1\" class=\"dataframe\">\n",
       "  <thead>\n",
       "    <tr style=\"text-align: right;\">\n",
       "      <th></th>\n",
       "      <th>name</th>\n",
       "      <th>ID</th>\n",
       "      <th>City</th>\n",
       "    </tr>\n",
       "    <tr>\n",
       "      <th>ID</th>\n",
       "      <th></th>\n",
       "      <th></th>\n",
       "      <th></th>\n",
       "    </tr>\n",
       "  </thead>\n",
       "  <tbody>\n",
       "    <tr>\n",
       "      <th>101</th>\n",
       "      <td>Mayank</td>\n",
       "      <td>101</td>\n",
       "      <td>Bengaluru</td>\n",
       "    </tr>\n",
       "    <tr>\n",
       "      <th>102</th>\n",
       "      <td>Rishabh</td>\n",
       "      <td>102</td>\n",
       "      <td>Nodia</td>\n",
       "    </tr>\n",
       "    <tr>\n",
       "      <th>103</th>\n",
       "      <td>Geetika</td>\n",
       "      <td>103</td>\n",
       "      <td>Ambala</td>\n",
       "    </tr>\n",
       "    <tr>\n",
       "      <th>104</th>\n",
       "      <td>Deepak</td>\n",
       "      <td>104</td>\n",
       "      <td>Chandigarh</td>\n",
       "    </tr>\n",
       "    <tr>\n",
       "      <th>105</th>\n",
       "      <td>Priya</td>\n",
       "      <td>105</td>\n",
       "      <td>Surat</td>\n",
       "    </tr>\n",
       "    <tr>\n",
       "      <th>106</th>\n",
       "      <td>Abha</td>\n",
       "      <td>106</td>\n",
       "      <td>Mohali</td>\n",
       "    </tr>\n",
       "  </tbody>\n",
       "</table>\n",
       "</div>"
      ],
      "text/plain": [
       "        name   ID        City\n",
       "ID                           \n",
       "101   Mayank  101   Bengaluru\n",
       "102  Rishabh  102       Nodia\n",
       "103  Geetika  103      Ambala\n",
       "104   Deepak  104  Chandigarh\n",
       "105    Priya  105       Surat\n",
       "106     Abha  106      Mohali"
      ]
     },
     "execution_count": 170,
     "metadata": {},
     "output_type": "execute_result"
    }
   ],
   "source": [
    "lst2"
   ]
  },
  {
   "cell_type": "code",
   "execution_count": 171,
   "id": "cfd10350",
   "metadata": {},
   "outputs": [
    {
     "data": {
      "text/html": [
       "<div>\n",
       "<style scoped>\n",
       "    .dataframe tbody tr th:only-of-type {\n",
       "        vertical-align: middle;\n",
       "    }\n",
       "\n",
       "    .dataframe tbody tr th {\n",
       "        vertical-align: top;\n",
       "    }\n",
       "\n",
       "    .dataframe thead th {\n",
       "        text-align: right;\n",
       "    }\n",
       "</style>\n",
       "<table border=\"1\" class=\"dataframe\">\n",
       "  <thead>\n",
       "    <tr style=\"text-align: right;\">\n",
       "      <th></th>\n",
       "      <th>name</th>\n",
       "      <th>ID</th>\n",
       "    </tr>\n",
       "    <tr>\n",
       "      <th>ID</th>\n",
       "      <th></th>\n",
       "      <th></th>\n",
       "    </tr>\n",
       "  </thead>\n",
       "  <tbody>\n",
       "    <tr>\n",
       "      <th>101</th>\n",
       "      <td>Mayank</td>\n",
       "      <td>101</td>\n",
       "    </tr>\n",
       "    <tr>\n",
       "      <th>102</th>\n",
       "      <td>Rishabh</td>\n",
       "      <td>102</td>\n",
       "    </tr>\n",
       "  </tbody>\n",
       "</table>\n",
       "</div>"
      ],
      "text/plain": [
       "        name   ID\n",
       "ID               \n",
       "101   Mayank  101\n",
       "102  Rishabh  102"
      ]
     },
     "execution_count": 171,
     "metadata": {},
     "output_type": "execute_result"
    }
   ],
   "source": [
    "# fetch the first two rows and first two columns using iloc\n",
    "\n",
    "lst2.iloc[0:2, 0:2]"
   ]
  },
  {
   "cell_type": "code",
   "execution_count": 172,
   "id": "bc5104db",
   "metadata": {},
   "outputs": [
    {
     "data": {
      "text/html": [
       "<div>\n",
       "<style scoped>\n",
       "    .dataframe tbody tr th:only-of-type {\n",
       "        vertical-align: middle;\n",
       "    }\n",
       "\n",
       "    .dataframe tbody tr th {\n",
       "        vertical-align: top;\n",
       "    }\n",
       "\n",
       "    .dataframe thead th {\n",
       "        text-align: right;\n",
       "    }\n",
       "</style>\n",
       "<table border=\"1\" class=\"dataframe\">\n",
       "  <thead>\n",
       "    <tr style=\"text-align: right;\">\n",
       "      <th></th>\n",
       "      <th>name</th>\n",
       "      <th>ID</th>\n",
       "      <th>City</th>\n",
       "    </tr>\n",
       "    <tr>\n",
       "      <th>ID</th>\n",
       "      <th></th>\n",
       "      <th></th>\n",
       "      <th></th>\n",
       "    </tr>\n",
       "  </thead>\n",
       "  <tbody>\n",
       "    <tr>\n",
       "      <th>106</th>\n",
       "      <td>Abha</td>\n",
       "      <td>106</td>\n",
       "      <td>Mohali</td>\n",
       "    </tr>\n",
       "    <tr>\n",
       "      <th>105</th>\n",
       "      <td>Priya</td>\n",
       "      <td>105</td>\n",
       "      <td>Surat</td>\n",
       "    </tr>\n",
       "    <tr>\n",
       "      <th>104</th>\n",
       "      <td>Deepak</td>\n",
       "      <td>104</td>\n",
       "      <td>Chandigarh</td>\n",
       "    </tr>\n",
       "    <tr>\n",
       "      <th>103</th>\n",
       "      <td>Geetika</td>\n",
       "      <td>103</td>\n",
       "      <td>Ambala</td>\n",
       "    </tr>\n",
       "    <tr>\n",
       "      <th>102</th>\n",
       "      <td>Rishabh</td>\n",
       "      <td>102</td>\n",
       "      <td>Nodia</td>\n",
       "    </tr>\n",
       "    <tr>\n",
       "      <th>101</th>\n",
       "      <td>Mayank</td>\n",
       "      <td>101</td>\n",
       "      <td>Bengaluru</td>\n",
       "    </tr>\n",
       "  </tbody>\n",
       "</table>\n",
       "</div>"
      ],
      "text/plain": [
       "        name   ID        City\n",
       "ID                           \n",
       "106     Abha  106      Mohali\n",
       "105    Priya  105       Surat\n",
       "104   Deepak  104  Chandigarh\n",
       "103  Geetika  103      Ambala\n",
       "102  Rishabh  102       Nodia\n",
       "101   Mayank  101   Bengaluru"
      ]
     },
     "execution_count": 172,
     "metadata": {},
     "output_type": "execute_result"
    }
   ],
   "source": [
    "# reverse of the dataframe\n",
    "\n",
    "lst2.iloc[::-1]"
   ]
  },
  {
   "cell_type": "code",
   "execution_count": 173,
   "id": "f1ce482b",
   "metadata": {},
   "outputs": [
    {
     "data": {
      "text/html": [
       "<div>\n",
       "<style scoped>\n",
       "    .dataframe tbody tr th:only-of-type {\n",
       "        vertical-align: middle;\n",
       "    }\n",
       "\n",
       "    .dataframe tbody tr th {\n",
       "        vertical-align: top;\n",
       "    }\n",
       "\n",
       "    .dataframe thead th {\n",
       "        text-align: right;\n",
       "    }\n",
       "</style>\n",
       "<table border=\"1\" class=\"dataframe\">\n",
       "  <thead>\n",
       "    <tr style=\"text-align: right;\">\n",
       "      <th></th>\n",
       "      <th>City</th>\n",
       "      <th>ID</th>\n",
       "      <th>name</th>\n",
       "    </tr>\n",
       "    <tr>\n",
       "      <th>ID</th>\n",
       "      <th></th>\n",
       "      <th></th>\n",
       "      <th></th>\n",
       "    </tr>\n",
       "  </thead>\n",
       "  <tbody>\n",
       "    <tr>\n",
       "      <th>106</th>\n",
       "      <td>Mohali</td>\n",
       "      <td>106</td>\n",
       "      <td>Abha</td>\n",
       "    </tr>\n",
       "    <tr>\n",
       "      <th>105</th>\n",
       "      <td>Surat</td>\n",
       "      <td>105</td>\n",
       "      <td>Priya</td>\n",
       "    </tr>\n",
       "    <tr>\n",
       "      <th>104</th>\n",
       "      <td>Chandigarh</td>\n",
       "      <td>104</td>\n",
       "      <td>Deepak</td>\n",
       "    </tr>\n",
       "    <tr>\n",
       "      <th>103</th>\n",
       "      <td>Ambala</td>\n",
       "      <td>103</td>\n",
       "      <td>Geetika</td>\n",
       "    </tr>\n",
       "    <tr>\n",
       "      <th>102</th>\n",
       "      <td>Nodia</td>\n",
       "      <td>102</td>\n",
       "      <td>Rishabh</td>\n",
       "    </tr>\n",
       "    <tr>\n",
       "      <th>101</th>\n",
       "      <td>Bengaluru</td>\n",
       "      <td>101</td>\n",
       "      <td>Mayank</td>\n",
       "    </tr>\n",
       "  </tbody>\n",
       "</table>\n",
       "</div>"
      ],
      "text/plain": [
       "           City   ID     name\n",
       "ID                           \n",
       "106      Mohali  106     Abha\n",
       "105       Surat  105    Priya\n",
       "104  Chandigarh  104   Deepak\n",
       "103      Ambala  103  Geetika\n",
       "102       Nodia  102  Rishabh\n",
       "101   Bengaluru  101   Mayank"
      ]
     },
     "execution_count": 173,
     "metadata": {},
     "output_type": "execute_result"
    }
   ],
   "source": [
    "lst2.iloc[::-1, ::-1]"
   ]
  },
  {
   "cell_type": "code",
   "execution_count": 177,
   "id": "a066fbec",
   "metadata": {},
   "outputs": [
    {
     "data": {
      "text/html": [
       "<div>\n",
       "<style scoped>\n",
       "    .dataframe tbody tr th:only-of-type {\n",
       "        vertical-align: middle;\n",
       "    }\n",
       "\n",
       "    .dataframe tbody tr th {\n",
       "        vertical-align: top;\n",
       "    }\n",
       "\n",
       "    .dataframe thead th {\n",
       "        text-align: right;\n",
       "    }\n",
       "</style>\n",
       "<table border=\"1\" class=\"dataframe\">\n",
       "  <thead>\n",
       "    <tr style=\"text-align: right;\">\n",
       "      <th></th>\n",
       "      <th>City</th>\n",
       "      <th>ID</th>\n",
       "      <th>name</th>\n",
       "    </tr>\n",
       "    <tr>\n",
       "      <th>ID</th>\n",
       "      <th></th>\n",
       "      <th></th>\n",
       "      <th></th>\n",
       "    </tr>\n",
       "  </thead>\n",
       "  <tbody>\n",
       "    <tr>\n",
       "      <th>106</th>\n",
       "      <td>Mohali</td>\n",
       "      <td>106</td>\n",
       "      <td>Abha</td>\n",
       "    </tr>\n",
       "    <tr>\n",
       "      <th>105</th>\n",
       "      <td>Surat</td>\n",
       "      <td>105</td>\n",
       "      <td>Priya</td>\n",
       "    </tr>\n",
       "    <tr>\n",
       "      <th>104</th>\n",
       "      <td>Chandigarh</td>\n",
       "      <td>104</td>\n",
       "      <td>Deepak</td>\n",
       "    </tr>\n",
       "    <tr>\n",
       "      <th>103</th>\n",
       "      <td>Ambala</td>\n",
       "      <td>103</td>\n",
       "      <td>Geetika</td>\n",
       "    </tr>\n",
       "    <tr>\n",
       "      <th>102</th>\n",
       "      <td>Nodia</td>\n",
       "      <td>102</td>\n",
       "      <td>Rishabh</td>\n",
       "    </tr>\n",
       "    <tr>\n",
       "      <th>101</th>\n",
       "      <td>Bengaluru</td>\n",
       "      <td>101</td>\n",
       "      <td>Mayank</td>\n",
       "    </tr>\n",
       "  </tbody>\n",
       "</table>\n",
       "</div>"
      ],
      "text/plain": [
       "           City   ID     name\n",
       "ID                           \n",
       "106      Mohali  106     Abha\n",
       "105       Surat  105    Priya\n",
       "104  Chandigarh  104   Deepak\n",
       "103      Ambala  103  Geetika\n",
       "102       Nodia  102  Rishabh\n",
       "101   Bengaluru  101   Mayank"
      ]
     },
     "execution_count": 177,
     "metadata": {},
     "output_type": "execute_result"
    }
   ],
   "source": [
    "lst2.loc[106:101:-1, 'City':'name':-1]"
   ]
  },
  {
   "cell_type": "markdown",
   "id": "f1837f01",
   "metadata": {},
   "source": [
    "### How to access a column"
   ]
  },
  {
   "cell_type": "markdown",
   "id": "515f3e78",
   "metadata": {},
   "source": [
    "Syntax:\n",
    "    \n",
    "        \n",
    "        df['column_name'] or df.column_name"
   ]
  },
  {
   "cell_type": "code",
   "execution_count": 179,
   "id": "9cc56876",
   "metadata": {},
   "outputs": [
    {
     "data": {
      "text/html": [
       "<div>\n",
       "<style scoped>\n",
       "    .dataframe tbody tr th:only-of-type {\n",
       "        vertical-align: middle;\n",
       "    }\n",
       "\n",
       "    .dataframe tbody tr th {\n",
       "        vertical-align: top;\n",
       "    }\n",
       "\n",
       "    .dataframe thead th {\n",
       "        text-align: right;\n",
       "    }\n",
       "</style>\n",
       "<table border=\"1\" class=\"dataframe\">\n",
       "  <thead>\n",
       "    <tr style=\"text-align: right;\">\n",
       "      <th></th>\n",
       "      <th>name</th>\n",
       "      <th>ID</th>\n",
       "      <th>City</th>\n",
       "    </tr>\n",
       "    <tr>\n",
       "      <th>ID</th>\n",
       "      <th></th>\n",
       "      <th></th>\n",
       "      <th></th>\n",
       "    </tr>\n",
       "  </thead>\n",
       "  <tbody>\n",
       "    <tr>\n",
       "      <th>101</th>\n",
       "      <td>Mayank</td>\n",
       "      <td>101</td>\n",
       "      <td>Bengaluru</td>\n",
       "    </tr>\n",
       "    <tr>\n",
       "      <th>102</th>\n",
       "      <td>Rishabh</td>\n",
       "      <td>102</td>\n",
       "      <td>Nodia</td>\n",
       "    </tr>\n",
       "    <tr>\n",
       "      <th>103</th>\n",
       "      <td>Geetika</td>\n",
       "      <td>103</td>\n",
       "      <td>Ambala</td>\n",
       "    </tr>\n",
       "    <tr>\n",
       "      <th>104</th>\n",
       "      <td>Deepak</td>\n",
       "      <td>104</td>\n",
       "      <td>Chandigarh</td>\n",
       "    </tr>\n",
       "    <tr>\n",
       "      <th>105</th>\n",
       "      <td>Priya</td>\n",
       "      <td>105</td>\n",
       "      <td>Surat</td>\n",
       "    </tr>\n",
       "    <tr>\n",
       "      <th>106</th>\n",
       "      <td>Abha</td>\n",
       "      <td>106</td>\n",
       "      <td>Mohali</td>\n",
       "    </tr>\n",
       "  </tbody>\n",
       "</table>\n",
       "</div>"
      ],
      "text/plain": [
       "        name   ID        City\n",
       "ID                           \n",
       "101   Mayank  101   Bengaluru\n",
       "102  Rishabh  102       Nodia\n",
       "103  Geetika  103      Ambala\n",
       "104   Deepak  104  Chandigarh\n",
       "105    Priya  105       Surat\n",
       "106     Abha  106      Mohali"
      ]
     },
     "execution_count": 179,
     "metadata": {},
     "output_type": "execute_result"
    }
   ],
   "source": [
    "lst2"
   ]
  },
  {
   "cell_type": "code",
   "execution_count": 181,
   "id": "4196b167",
   "metadata": {},
   "outputs": [
    {
     "data": {
      "text/plain": [
       "ID\n",
       "101     Mayank\n",
       "102    Rishabh\n",
       "103    Geetika\n",
       "104     Deepak\n",
       "105      Priya\n",
       "106       Abha\n",
       "Name: name, dtype: object"
      ]
     },
     "execution_count": 181,
     "metadata": {},
     "output_type": "execute_result"
    }
   ],
   "source": [
    "lst2['name'] # this will return a series "
   ]
  },
  {
   "cell_type": "code",
   "execution_count": 182,
   "id": "163396fb",
   "metadata": {},
   "outputs": [
    {
     "data": {
      "text/html": [
       "<div>\n",
       "<style scoped>\n",
       "    .dataframe tbody tr th:only-of-type {\n",
       "        vertical-align: middle;\n",
       "    }\n",
       "\n",
       "    .dataframe tbody tr th {\n",
       "        vertical-align: top;\n",
       "    }\n",
       "\n",
       "    .dataframe thead th {\n",
       "        text-align: right;\n",
       "    }\n",
       "</style>\n",
       "<table border=\"1\" class=\"dataframe\">\n",
       "  <thead>\n",
       "    <tr style=\"text-align: right;\">\n",
       "      <th></th>\n",
       "      <th>name</th>\n",
       "    </tr>\n",
       "    <tr>\n",
       "      <th>ID</th>\n",
       "      <th></th>\n",
       "    </tr>\n",
       "  </thead>\n",
       "  <tbody>\n",
       "    <tr>\n",
       "      <th>101</th>\n",
       "      <td>Mayank</td>\n",
       "    </tr>\n",
       "    <tr>\n",
       "      <th>102</th>\n",
       "      <td>Rishabh</td>\n",
       "    </tr>\n",
       "    <tr>\n",
       "      <th>103</th>\n",
       "      <td>Geetika</td>\n",
       "    </tr>\n",
       "    <tr>\n",
       "      <th>104</th>\n",
       "      <td>Deepak</td>\n",
       "    </tr>\n",
       "    <tr>\n",
       "      <th>105</th>\n",
       "      <td>Priya</td>\n",
       "    </tr>\n",
       "    <tr>\n",
       "      <th>106</th>\n",
       "      <td>Abha</td>\n",
       "    </tr>\n",
       "  </tbody>\n",
       "</table>\n",
       "</div>"
      ],
      "text/plain": [
       "        name\n",
       "ID          \n",
       "101   Mayank\n",
       "102  Rishabh\n",
       "103  Geetika\n",
       "104   Deepak\n",
       "105    Priya\n",
       "106     Abha"
      ]
     },
     "execution_count": 182,
     "metadata": {},
     "output_type": "execute_result"
    }
   ],
   "source": [
    "lst2[['name']]"
   ]
  },
  {
   "cell_type": "code",
   "execution_count": 183,
   "id": "e33246c3",
   "metadata": {},
   "outputs": [
    {
     "data": {
      "text/plain": [
       "pandas.core.frame.DataFrame"
      ]
     },
     "execution_count": 183,
     "metadata": {},
     "output_type": "execute_result"
    }
   ],
   "source": [
    "type(lst2[['name']])"
   ]
  },
  {
   "cell_type": "code",
   "execution_count": 185,
   "id": "8c7aec7b",
   "metadata": {},
   "outputs": [
    {
     "data": {
      "text/plain": [
       "ID\n",
       "101     Mayank\n",
       "102    Rishabh\n",
       "103    Geetika\n",
       "104     Deepak\n",
       "105      Priya\n",
       "106       Abha\n",
       "Name: name, dtype: object"
      ]
     },
     "execution_count": 185,
     "metadata": {},
     "output_type": "execute_result"
    }
   ],
   "source": [
    "lst2.name"
   ]
  },
  {
   "cell_type": "code",
   "execution_count": 188,
   "id": "b193f900",
   "metadata": {},
   "outputs": [
    {
     "data": {
      "text/html": [
       "<div>\n",
       "<style scoped>\n",
       "    .dataframe tbody tr th:only-of-type {\n",
       "        vertical-align: middle;\n",
       "    }\n",
       "\n",
       "    .dataframe tbody tr th {\n",
       "        vertical-align: top;\n",
       "    }\n",
       "\n",
       "    .dataframe thead th {\n",
       "        text-align: right;\n",
       "    }\n",
       "</style>\n",
       "<table border=\"1\" class=\"dataframe\">\n",
       "  <thead>\n",
       "    <tr style=\"text-align: right;\">\n",
       "      <th></th>\n",
       "      <th>City</th>\n",
       "      <th>name</th>\n",
       "    </tr>\n",
       "    <tr>\n",
       "      <th>ID</th>\n",
       "      <th></th>\n",
       "      <th></th>\n",
       "    </tr>\n",
       "  </thead>\n",
       "  <tbody>\n",
       "    <tr>\n",
       "      <th>101</th>\n",
       "      <td>Bengaluru</td>\n",
       "      <td>Mayank</td>\n",
       "    </tr>\n",
       "    <tr>\n",
       "      <th>102</th>\n",
       "      <td>Nodia</td>\n",
       "      <td>Rishabh</td>\n",
       "    </tr>\n",
       "    <tr>\n",
       "      <th>103</th>\n",
       "      <td>Ambala</td>\n",
       "      <td>Geetika</td>\n",
       "    </tr>\n",
       "    <tr>\n",
       "      <th>104</th>\n",
       "      <td>Chandigarh</td>\n",
       "      <td>Deepak</td>\n",
       "    </tr>\n",
       "    <tr>\n",
       "      <th>105</th>\n",
       "      <td>Surat</td>\n",
       "      <td>Priya</td>\n",
       "    </tr>\n",
       "    <tr>\n",
       "      <th>106</th>\n",
       "      <td>Mohali</td>\n",
       "      <td>Abha</td>\n",
       "    </tr>\n",
       "  </tbody>\n",
       "</table>\n",
       "</div>"
      ],
      "text/plain": [
       "           City     name\n",
       "ID                      \n",
       "101   Bengaluru   Mayank\n",
       "102       Nodia  Rishabh\n",
       "103      Ambala  Geetika\n",
       "104  Chandigarh   Deepak\n",
       "105       Surat    Priya\n",
       "106      Mohali     Abha"
      ]
     },
     "execution_count": 188,
     "metadata": {},
     "output_type": "execute_result"
    }
   ],
   "source": [
    "lst2[['City', 'name']]"
   ]
  },
  {
   "cell_type": "code",
   "execution_count": 192,
   "id": "b413bc02",
   "metadata": {},
   "outputs": [
    {
     "data": {
      "text/html": [
       "<div>\n",
       "<style scoped>\n",
       "    .dataframe tbody tr th:only-of-type {\n",
       "        vertical-align: middle;\n",
       "    }\n",
       "\n",
       "    .dataframe tbody tr th {\n",
       "        vertical-align: top;\n",
       "    }\n",
       "\n",
       "    .dataframe thead th {\n",
       "        text-align: right;\n",
       "    }\n",
       "</style>\n",
       "<table border=\"1\" class=\"dataframe\">\n",
       "  <thead>\n",
       "    <tr style=\"text-align: right;\">\n",
       "      <th></th>\n",
       "      <th>City</th>\n",
       "      <th>name</th>\n",
       "    </tr>\n",
       "    <tr>\n",
       "      <th>ID</th>\n",
       "      <th></th>\n",
       "      <th></th>\n",
       "    </tr>\n",
       "  </thead>\n",
       "  <tbody>\n",
       "    <tr>\n",
       "      <th>101</th>\n",
       "      <td>Bengaluru</td>\n",
       "      <td>Mayank</td>\n",
       "    </tr>\n",
       "    <tr>\n",
       "      <th>102</th>\n",
       "      <td>Nodia</td>\n",
       "      <td>Rishabh</td>\n",
       "    </tr>\n",
       "    <tr>\n",
       "      <th>103</th>\n",
       "      <td>Ambala</td>\n",
       "      <td>Geetika</td>\n",
       "    </tr>\n",
       "    <tr>\n",
       "      <th>104</th>\n",
       "      <td>Chandigarh</td>\n",
       "      <td>Deepak</td>\n",
       "    </tr>\n",
       "  </tbody>\n",
       "</table>\n",
       "</div>"
      ],
      "text/plain": [
       "           City     name\n",
       "ID                      \n",
       "101   Bengaluru   Mayank\n",
       "102       Nodia  Rishabh\n",
       "103      Ambala  Geetika\n",
       "104  Chandigarh   Deepak"
      ]
     },
     "execution_count": 192,
     "metadata": {},
     "output_type": "execute_result"
    }
   ],
   "source": [
    "lst2.iloc[0:4][['City', 'name']]"
   ]
  },
  {
   "cell_type": "code",
   "execution_count": 193,
   "id": "5c25c2b4",
   "metadata": {},
   "outputs": [],
   "source": [
    "df.index = [f'emp_{i}' for i in range(1,7)]"
   ]
  },
  {
   "cell_type": "code",
   "execution_count": 194,
   "id": "9371b13f",
   "metadata": {},
   "outputs": [
    {
     "data": {
      "text/html": [
       "<div>\n",
       "<style scoped>\n",
       "    .dataframe tbody tr th:only-of-type {\n",
       "        vertical-align: middle;\n",
       "    }\n",
       "\n",
       "    .dataframe tbody tr th {\n",
       "        vertical-align: top;\n",
       "    }\n",
       "\n",
       "    .dataframe thead th {\n",
       "        text-align: right;\n",
       "    }\n",
       "</style>\n",
       "<table border=\"1\" class=\"dataframe\">\n",
       "  <thead>\n",
       "    <tr style=\"text-align: right;\">\n",
       "      <th></th>\n",
       "      <th>Name</th>\n",
       "      <th>ID</th>\n",
       "      <th>City</th>\n",
       "    </tr>\n",
       "  </thead>\n",
       "  <tbody>\n",
       "    <tr>\n",
       "      <th>emp_1</th>\n",
       "      <td>Mayank</td>\n",
       "      <td>101</td>\n",
       "      <td>Bengaluru</td>\n",
       "    </tr>\n",
       "    <tr>\n",
       "      <th>emp_2</th>\n",
       "      <td>Rishabh</td>\n",
       "      <td>102</td>\n",
       "      <td>Nodia</td>\n",
       "    </tr>\n",
       "    <tr>\n",
       "      <th>emp_3</th>\n",
       "      <td>Geetika</td>\n",
       "      <td>103</td>\n",
       "      <td>Ambala</td>\n",
       "    </tr>\n",
       "    <tr>\n",
       "      <th>emp_4</th>\n",
       "      <td>Deepak</td>\n",
       "      <td>104</td>\n",
       "      <td>Chandigarh</td>\n",
       "    </tr>\n",
       "    <tr>\n",
       "      <th>emp_5</th>\n",
       "      <td>Priya</td>\n",
       "      <td>105</td>\n",
       "      <td>Surat</td>\n",
       "    </tr>\n",
       "    <tr>\n",
       "      <th>emp_6</th>\n",
       "      <td>Abha</td>\n",
       "      <td>106</td>\n",
       "      <td>Mohali</td>\n",
       "    </tr>\n",
       "  </tbody>\n",
       "</table>\n",
       "</div>"
      ],
      "text/plain": [
       "          Name   ID        City\n",
       "emp_1   Mayank  101   Bengaluru\n",
       "emp_2  Rishabh  102       Nodia\n",
       "emp_3  Geetika  103      Ambala\n",
       "emp_4   Deepak  104  Chandigarh\n",
       "emp_5    Priya  105       Surat\n",
       "emp_6     Abha  106      Mohali"
      ]
     },
     "execution_count": 194,
     "metadata": {},
     "output_type": "execute_result"
    }
   ],
   "source": [
    "df"
   ]
  },
  {
   "cell_type": "code",
   "execution_count": 196,
   "id": "c366525d",
   "metadata": {},
   "outputs": [
    {
     "data": {
      "text/html": [
       "<div>\n",
       "<style scoped>\n",
       "    .dataframe tbody tr th:only-of-type {\n",
       "        vertical-align: middle;\n",
       "    }\n",
       "\n",
       "    .dataframe tbody tr th {\n",
       "        vertical-align: top;\n",
       "    }\n",
       "\n",
       "    .dataframe thead th {\n",
       "        text-align: right;\n",
       "    }\n",
       "</style>\n",
       "<table border=\"1\" class=\"dataframe\">\n",
       "  <thead>\n",
       "    <tr style=\"text-align: right;\">\n",
       "      <th></th>\n",
       "      <th>Name</th>\n",
       "      <th>ID</th>\n",
       "      <th>City</th>\n",
       "    </tr>\n",
       "  </thead>\n",
       "  <tbody>\n",
       "    <tr>\n",
       "      <th>emp_1</th>\n",
       "      <td>Mayank</td>\n",
       "      <td>101</td>\n",
       "      <td>Bengaluru</td>\n",
       "    </tr>\n",
       "    <tr>\n",
       "      <th>emp_2</th>\n",
       "      <td>Rishabh</td>\n",
       "      <td>102</td>\n",
       "      <td>Nodia</td>\n",
       "    </tr>\n",
       "    <tr>\n",
       "      <th>emp_3</th>\n",
       "      <td>Geetika</td>\n",
       "      <td>103</td>\n",
       "      <td>Ambala</td>\n",
       "    </tr>\n",
       "  </tbody>\n",
       "</table>\n",
       "</div>"
      ],
      "text/plain": [
       "          Name   ID       City\n",
       "emp_1   Mayank  101  Bengaluru\n",
       "emp_2  Rishabh  102      Nodia\n",
       "emp_3  Geetika  103     Ambala"
      ]
     },
     "execution_count": 196,
     "metadata": {},
     "output_type": "execute_result"
    }
   ],
   "source": [
    "df.loc['emp_1':'emp_3']"
   ]
  },
  {
   "cell_type": "code",
   "execution_count": 198,
   "id": "0d63d859",
   "metadata": {},
   "outputs": [
    {
     "data": {
      "text/html": [
       "<div>\n",
       "<style scoped>\n",
       "    .dataframe tbody tr th:only-of-type {\n",
       "        vertical-align: middle;\n",
       "    }\n",
       "\n",
       "    .dataframe tbody tr th {\n",
       "        vertical-align: top;\n",
       "    }\n",
       "\n",
       "    .dataframe thead th {\n",
       "        text-align: right;\n",
       "    }\n",
       "</style>\n",
       "<table border=\"1\" class=\"dataframe\">\n",
       "  <thead>\n",
       "    <tr style=\"text-align: right;\">\n",
       "      <th></th>\n",
       "      <th>Name</th>\n",
       "      <th>ID</th>\n",
       "      <th>City</th>\n",
       "    </tr>\n",
       "  </thead>\n",
       "  <tbody>\n",
       "    <tr>\n",
       "      <th>emp_1</th>\n",
       "      <td>Mayank</td>\n",
       "      <td>101</td>\n",
       "      <td>Bengaluru</td>\n",
       "    </tr>\n",
       "    <tr>\n",
       "      <th>emp_2</th>\n",
       "      <td>Rishabh</td>\n",
       "      <td>102</td>\n",
       "      <td>Nodia</td>\n",
       "    </tr>\n",
       "    <tr>\n",
       "      <th>emp_3</th>\n",
       "      <td>Geetika</td>\n",
       "      <td>103</td>\n",
       "      <td>Ambala</td>\n",
       "    </tr>\n",
       "  </tbody>\n",
       "</table>\n",
       "</div>"
      ],
      "text/plain": [
       "          Name   ID       City\n",
       "emp_1   Mayank  101  Bengaluru\n",
       "emp_2  Rishabh  102      Nodia\n",
       "emp_3  Geetika  103     Ambala"
      ]
     },
     "execution_count": 198,
     "metadata": {},
     "output_type": "execute_result"
    }
   ],
   "source": [
    "df.iloc[0:3]"
   ]
  },
  {
   "cell_type": "code",
   "execution_count": 199,
   "id": "f2628fd0",
   "metadata": {},
   "outputs": [
    {
     "data": {
      "text/html": [
       "<div>\n",
       "<style scoped>\n",
       "    .dataframe tbody tr th:only-of-type {\n",
       "        vertical-align: middle;\n",
       "    }\n",
       "\n",
       "    .dataframe tbody tr th {\n",
       "        vertical-align: top;\n",
       "    }\n",
       "\n",
       "    .dataframe thead th {\n",
       "        text-align: right;\n",
       "    }\n",
       "</style>\n",
       "<table border=\"1\" class=\"dataframe\">\n",
       "  <thead>\n",
       "    <tr style=\"text-align: right;\">\n",
       "      <th></th>\n",
       "      <th>Name</th>\n",
       "      <th>ID</th>\n",
       "    </tr>\n",
       "  </thead>\n",
       "  <tbody>\n",
       "    <tr>\n",
       "      <th>emp_1</th>\n",
       "      <td>Mayank</td>\n",
       "      <td>101</td>\n",
       "    </tr>\n",
       "    <tr>\n",
       "      <th>emp_2</th>\n",
       "      <td>Rishabh</td>\n",
       "      <td>102</td>\n",
       "    </tr>\n",
       "    <tr>\n",
       "      <th>emp_3</th>\n",
       "      <td>Geetika</td>\n",
       "      <td>103</td>\n",
       "    </tr>\n",
       "  </tbody>\n",
       "</table>\n",
       "</div>"
      ],
      "text/plain": [
       "          Name   ID\n",
       "emp_1   Mayank  101\n",
       "emp_2  Rishabh  102\n",
       "emp_3  Geetika  103"
      ]
     },
     "execution_count": 199,
     "metadata": {},
     "output_type": "execute_result"
    }
   ],
   "source": [
    "df.iloc[0:3, 0:2]"
   ]
  },
  {
   "cell_type": "code",
   "execution_count": 200,
   "id": "23fc4186",
   "metadata": {},
   "outputs": [
    {
     "data": {
      "text/html": [
       "<div>\n",
       "<style scoped>\n",
       "    .dataframe tbody tr th:only-of-type {\n",
       "        vertical-align: middle;\n",
       "    }\n",
       "\n",
       "    .dataframe tbody tr th {\n",
       "        vertical-align: top;\n",
       "    }\n",
       "\n",
       "    .dataframe thead th {\n",
       "        text-align: right;\n",
       "    }\n",
       "</style>\n",
       "<table border=\"1\" class=\"dataframe\">\n",
       "  <thead>\n",
       "    <tr style=\"text-align: right;\">\n",
       "      <th></th>\n",
       "      <th>name</th>\n",
       "      <th>ID</th>\n",
       "      <th>City</th>\n",
       "    </tr>\n",
       "    <tr>\n",
       "      <th>ID</th>\n",
       "      <th></th>\n",
       "      <th></th>\n",
       "      <th></th>\n",
       "    </tr>\n",
       "  </thead>\n",
       "  <tbody>\n",
       "    <tr>\n",
       "      <th>101</th>\n",
       "      <td>Mayank</td>\n",
       "      <td>101</td>\n",
       "      <td>Bengaluru</td>\n",
       "    </tr>\n",
       "    <tr>\n",
       "      <th>102</th>\n",
       "      <td>Rishabh</td>\n",
       "      <td>102</td>\n",
       "      <td>Nodia</td>\n",
       "    </tr>\n",
       "    <tr>\n",
       "      <th>103</th>\n",
       "      <td>Geetika</td>\n",
       "      <td>103</td>\n",
       "      <td>Ambala</td>\n",
       "    </tr>\n",
       "    <tr>\n",
       "      <th>104</th>\n",
       "      <td>Deepak</td>\n",
       "      <td>104</td>\n",
       "      <td>Chandigarh</td>\n",
       "    </tr>\n",
       "    <tr>\n",
       "      <th>105</th>\n",
       "      <td>Priya</td>\n",
       "      <td>105</td>\n",
       "      <td>Surat</td>\n",
       "    </tr>\n",
       "    <tr>\n",
       "      <th>106</th>\n",
       "      <td>Abha</td>\n",
       "      <td>106</td>\n",
       "      <td>Mohali</td>\n",
       "    </tr>\n",
       "  </tbody>\n",
       "</table>\n",
       "</div>"
      ],
      "text/plain": [
       "        name   ID        City\n",
       "ID                           \n",
       "101   Mayank  101   Bengaluru\n",
       "102  Rishabh  102       Nodia\n",
       "103  Geetika  103      Ambala\n",
       "104   Deepak  104  Chandigarh\n",
       "105    Priya  105       Surat\n",
       "106     Abha  106      Mohali"
      ]
     },
     "execution_count": 200,
     "metadata": {},
     "output_type": "execute_result"
    }
   ],
   "source": [
    "lst2"
   ]
  },
  {
   "cell_type": "code",
   "execution_count": 202,
   "id": "b8e27c10",
   "metadata": {},
   "outputs": [
    {
     "data": {
      "text/html": [
       "<div>\n",
       "<style scoped>\n",
       "    .dataframe tbody tr th:only-of-type {\n",
       "        vertical-align: middle;\n",
       "    }\n",
       "\n",
       "    .dataframe tbody tr th {\n",
       "        vertical-align: top;\n",
       "    }\n",
       "\n",
       "    .dataframe thead th {\n",
       "        text-align: right;\n",
       "    }\n",
       "</style>\n",
       "<table border=\"1\" class=\"dataframe\">\n",
       "  <thead>\n",
       "    <tr style=\"text-align: right;\">\n",
       "      <th></th>\n",
       "      <th>name</th>\n",
       "      <th>ID</th>\n",
       "    </tr>\n",
       "    <tr>\n",
       "      <th>ID</th>\n",
       "      <th></th>\n",
       "      <th></th>\n",
       "    </tr>\n",
       "  </thead>\n",
       "  <tbody>\n",
       "    <tr>\n",
       "      <th>105</th>\n",
       "      <td>Priya</td>\n",
       "      <td>105</td>\n",
       "    </tr>\n",
       "    <tr>\n",
       "      <th>106</th>\n",
       "      <td>Abha</td>\n",
       "      <td>106</td>\n",
       "    </tr>\n",
       "  </tbody>\n",
       "</table>\n",
       "</div>"
      ],
      "text/plain": [
       "      name   ID\n",
       "ID             \n",
       "105  Priya  105\n",
       "106   Abha  106"
      ]
     },
     "execution_count": 202,
     "metadata": {},
     "output_type": "execute_result"
    }
   ],
   "source": [
    "lst2.iloc[4::, 0:2]"
   ]
  },
  {
   "cell_type": "code",
   "execution_count": 204,
   "id": "f2d0426f",
   "metadata": {},
   "outputs": [
    {
     "data": {
      "text/html": [
       "<div>\n",
       "<style scoped>\n",
       "    .dataframe tbody tr th:only-of-type {\n",
       "        vertical-align: middle;\n",
       "    }\n",
       "\n",
       "    .dataframe tbody tr th {\n",
       "        vertical-align: top;\n",
       "    }\n",
       "\n",
       "    .dataframe thead th {\n",
       "        text-align: right;\n",
       "    }\n",
       "</style>\n",
       "<table border=\"1\" class=\"dataframe\">\n",
       "  <thead>\n",
       "    <tr style=\"text-align: right;\">\n",
       "      <th></th>\n",
       "      <th>name</th>\n",
       "      <th>ID</th>\n",
       "    </tr>\n",
       "    <tr>\n",
       "      <th>ID</th>\n",
       "      <th></th>\n",
       "      <th></th>\n",
       "    </tr>\n",
       "  </thead>\n",
       "  <tbody>\n",
       "    <tr>\n",
       "      <th>105</th>\n",
       "      <td>Priya</td>\n",
       "      <td>105</td>\n",
       "    </tr>\n",
       "    <tr>\n",
       "      <th>106</th>\n",
       "      <td>Abha</td>\n",
       "      <td>106</td>\n",
       "    </tr>\n",
       "  </tbody>\n",
       "</table>\n",
       "</div>"
      ],
      "text/plain": [
       "      name   ID\n",
       "ID             \n",
       "105  Priya  105\n",
       "106   Abha  106"
      ]
     },
     "execution_count": 204,
     "metadata": {},
     "output_type": "execute_result"
    }
   ],
   "source": [
    "lst2.loc[105:106, 'name':'ID']"
   ]
  },
  {
   "cell_type": "code",
   "execution_count": null,
   "id": "f8afcf6f",
   "metadata": {},
   "outputs": [],
   "source": []
  }
 ],
 "metadata": {
  "kernelspec": {
   "display_name": "Python 3 (ipykernel)",
   "language": "python",
   "name": "python3"
  },
  "language_info": {
   "codemirror_mode": {
    "name": "ipython",
    "version": 3
   },
   "file_extension": ".py",
   "mimetype": "text/x-python",
   "name": "python",
   "nbconvert_exporter": "python",
   "pygments_lexer": "ipython3",
   "version": "3.11.5"
  }
 },
 "nbformat": 4,
 "nbformat_minor": 5
}
